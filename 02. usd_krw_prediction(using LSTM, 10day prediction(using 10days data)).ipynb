{
 "cells": [
  {
   "cell_type": "markdown",
   "metadata": {},
   "source": [
    "### 데이터 불러오기"
   ]
  },
  {
   "cell_type": "code",
   "execution_count": 1,
   "metadata": {},
   "outputs": [
    {
     "name": "stderr",
     "output_type": "stream",
     "text": [
      "Using TensorFlow backend.\n"
     ]
    }
   ],
   "source": [
    "import pandas as pd\n",
    "import matplotlib.pyplot as plt\n",
    "import numpy as np\n",
    "\n",
    "from keras.models import Sequential\n",
    "from keras.layers import Dense, LSTM ,Dropout\n",
    "\n",
    "from sklearn.metrics import mean_squared_error\n",
    "from sklearn.preprocessing import MinMaxScaler"
   ]
  },
  {
   "cell_type": "code",
   "execution_count": 2,
   "metadata": {},
   "outputs": [],
   "source": [
    "data=pd.read_csv(r'./data/USD_KRW.csv')\n",
    "data.columns=['date', 'rate']"
   ]
  },
  {
   "cell_type": "code",
   "execution_count": 3,
   "metadata": {},
   "outputs": [
    {
     "data": {
      "text/html": [
       "<div>\n",
       "<style scoped>\n",
       "    .dataframe tbody tr th:only-of-type {\n",
       "        vertical-align: middle;\n",
       "    }\n",
       "\n",
       "    .dataframe tbody tr th {\n",
       "        vertical-align: top;\n",
       "    }\n",
       "\n",
       "    .dataframe thead th {\n",
       "        text-align: right;\n",
       "    }\n",
       "</style>\n",
       "<table border=\"1\" class=\"dataframe\">\n",
       "  <thead>\n",
       "    <tr style=\"text-align: right;\">\n",
       "      <th></th>\n",
       "      <th>date</th>\n",
       "      <th>rate</th>\n",
       "    </tr>\n",
       "  </thead>\n",
       "  <tbody>\n",
       "    <tr>\n",
       "      <td>0</td>\n",
       "      <td>2010-01-04</td>\n",
       "      <td>1161.0</td>\n",
       "    </tr>\n",
       "    <tr>\n",
       "      <td>1</td>\n",
       "      <td>2010-01-05</td>\n",
       "      <td>1147.3</td>\n",
       "    </tr>\n",
       "    <tr>\n",
       "      <td>2</td>\n",
       "      <td>2010-01-06</td>\n",
       "      <td>1141.4</td>\n",
       "    </tr>\n",
       "    <tr>\n",
       "      <td>3</td>\n",
       "      <td>2010-01-07</td>\n",
       "      <td>1132.0</td>\n",
       "    </tr>\n",
       "    <tr>\n",
       "      <td>4</td>\n",
       "      <td>2010-01-08</td>\n",
       "      <td>1134.1</td>\n",
       "    </tr>\n",
       "  </tbody>\n",
       "</table>\n",
       "</div>"
      ],
      "text/plain": [
       "         date    rate\n",
       "0  2010-01-04  1161.0\n",
       "1  2010-01-05  1147.3\n",
       "2  2010-01-06  1141.4\n",
       "3  2010-01-07  1132.0\n",
       "4  2010-01-08  1134.1"
      ]
     },
     "execution_count": 3,
     "metadata": {},
     "output_type": "execute_result"
    }
   ],
   "source": [
    "data.head()"
   ]
  },
  {
   "cell_type": "code",
   "execution_count": 4,
   "metadata": {},
   "outputs": [
    {
     "data": {
      "text/plain": [
       "(2485, 2)"
      ]
     },
     "execution_count": 4,
     "metadata": {},
     "output_type": "execute_result"
    }
   ],
   "source": [
    "data.shape"
   ]
  },
  {
   "cell_type": "code",
   "execution_count": 5,
   "metadata": {},
   "outputs": [
    {
     "data": {
      "text/plain": [
       "[<matplotlib.lines.Line2D at 0x1e5773e6d08>]"
      ]
     },
     "execution_count": 5,
     "metadata": {},
     "output_type": "execute_result"
    },
    {
     "data": {
      "image/png": "[encoded data removed]",
      "text/plain": [
       "<Figure size 432x288 with 1 Axes>"
      ]
     },
     "metadata": {
      "needs_background": "light"
     },
     "output_type": "display_data"
    }
   ],
   "source": [
    "plt.plot(data['rate'])"
   ]
  },
  {
   "cell_type": "code",
   "execution_count": 6,
   "metadata": {},
   "outputs": [
    {
     "name": "stderr",
     "output_type": "stream",
     "text": [
      "C:\\Users\\wsm26\\Anaconda3\\lib\\site-packages\\ipykernel_launcher.py:3: FutureWarning: Method .as_matrix will be removed in a future version. Use .values instead.\n",
      "  This is separate from the ipykernel package so we can avoid doing imports until\n",
      "C:\\Users\\wsm26\\Anaconda3\\lib\\site-packages\\ipykernel_launcher.py:7: SettingWithCopyWarning: \n",
      "A value is trying to be set on a copy of a slice from a DataFrame.\n",
      "Try using .loc[row_indexer,col_indexer] = value instead\n",
      "\n",
      "See the caveats in the documentation: http://pandas.pydata.org/pandas-docs/stable/user_guide/indexing.html#returning-a-view-versus-a-copy\n",
      "  import sys\n"
     ]
    }
   ],
   "source": [
    "data_1=data[['rate']]\n",
    "\n",
    "data_1_rate=data_1['rate'].as_matrix().reshape(-1, 1)\n",
    "\n",
    "sc_rate = MinMaxScaler()\n",
    "\n",
    "data_1['rate'] = sc_rate.fit_transform(data_1_rate)\n",
    "\n",
    "data_1=pd.DataFrame(data_1)\n",
    "data_1.columns=['rate']"
   ]
  },
  {
   "cell_type": "code",
   "execution_count": 7,
   "metadata": {},
   "outputs": [
    {
     "data": {
      "text/html": [
       "<div>\n",
       "<style scoped>\n",
       "    .dataframe tbody tr th:only-of-type {\n",
       "        vertical-align: middle;\n",
       "    }\n",
       "\n",
       "    .dataframe tbody tr th {\n",
       "        vertical-align: top;\n",
       "    }\n",
       "\n",
       "    .dataframe thead th {\n",
       "        text-align: right;\n",
       "    }\n",
       "</style>\n",
       "<table border=\"1\" class=\"dataframe\">\n",
       "  <thead>\n",
       "    <tr style=\"text-align: right;\">\n",
       "      <th></th>\n",
       "      <th>rate</th>\n",
       "    </tr>\n",
       "  </thead>\n",
       "  <tbody>\n",
       "    <tr>\n",
       "      <td>0</td>\n",
       "      <td>0.591972</td>\n",
       "    </tr>\n",
       "    <tr>\n",
       "      <td>1</td>\n",
       "      <td>0.538581</td>\n",
       "    </tr>\n",
       "    <tr>\n",
       "      <td>2</td>\n",
       "      <td>0.515588</td>\n",
       "    </tr>\n",
       "    <tr>\n",
       "      <td>3</td>\n",
       "      <td>0.478956</td>\n",
       "    </tr>\n",
       "    <tr>\n",
       "      <td>4</td>\n",
       "      <td>0.487140</td>\n",
       "    </tr>\n",
       "  </tbody>\n",
       "</table>\n",
       "</div>"
      ],
      "text/plain": [
       "       rate\n",
       "0  0.591972\n",
       "1  0.538581\n",
       "2  0.515588\n",
       "3  0.478956\n",
       "4  0.487140"
      ]
     },
     "execution_count": 7,
     "metadata": {},
     "output_type": "execute_result"
    }
   ],
   "source": [
    "data_1=pd.DataFrame(data_1)\n",
    "data_1.head()"
   ]
  },
  {
   "cell_type": "markdown",
   "metadata": {},
   "source": [
    "### y값 생성해주기"
   ]
  },
  {
   "cell_type": "code",
   "execution_count": 8,
   "metadata": {},
   "outputs": [],
   "source": [
    "data_y = data_1[[\"rate\"]]\n",
    "data_y = data_y[10:].reset_index()[[\"rate\"]]\n",
    "data_y = data_y.rename(columns = {\"rate\" : \"y\"})"
   ]
  },
  {
   "cell_type": "code",
   "execution_count": 9,
   "metadata": {},
   "outputs": [
    {
     "data": {
      "text/html": [
       "<div>\n",
       "<style scoped>\n",
       "    .dataframe tbody tr th:only-of-type {\n",
       "        vertical-align: middle;\n",
       "    }\n",
       "\n",
       "    .dataframe tbody tr th {\n",
       "        vertical-align: top;\n",
       "    }\n",
       "\n",
       "    .dataframe thead th {\n",
       "        text-align: right;\n",
       "    }\n",
       "</style>\n",
       "<table border=\"1\" class=\"dataframe\">\n",
       "  <thead>\n",
       "    <tr style=\"text-align: right;\">\n",
       "      <th></th>\n",
       "      <th>y</th>\n",
       "    </tr>\n",
       "  </thead>\n",
       "  <tbody>\n",
       "    <tr>\n",
       "      <td>0</td>\n",
       "      <td>0.464926</td>\n",
       "    </tr>\n",
       "    <tr>\n",
       "      <td>1</td>\n",
       "      <td>0.445440</td>\n",
       "    </tr>\n",
       "    <tr>\n",
       "      <td>2</td>\n",
       "      <td>0.463367</td>\n",
       "    </tr>\n",
       "    <tr>\n",
       "      <td>3</td>\n",
       "      <td>0.501949</td>\n",
       "    </tr>\n",
       "    <tr>\n",
       "      <td>4</td>\n",
       "      <td>0.544037</td>\n",
       "    </tr>\n",
       "    <tr>\n",
       "      <td>...</td>\n",
       "      <td>...</td>\n",
       "    </tr>\n",
       "    <tr>\n",
       "      <td>2470</td>\n",
       "      <td>0.588075</td>\n",
       "    </tr>\n",
       "    <tr>\n",
       "      <td>2471</td>\n",
       "      <td>0.592362</td>\n",
       "    </tr>\n",
       "    <tr>\n",
       "      <td>2472</td>\n",
       "      <td>0.571317</td>\n",
       "    </tr>\n",
       "    <tr>\n",
       "      <td>2473</td>\n",
       "      <td>0.561185</td>\n",
       "    </tr>\n",
       "    <tr>\n",
       "      <td>2474</td>\n",
       "      <td>0.583398</td>\n",
       "    </tr>\n",
       "  </tbody>\n",
       "</table>\n",
       "<p>2475 rows × 1 columns</p>\n",
       "</div>"
      ],
      "text/plain": [
       "             y\n",
       "0     0.464926\n",
       "1     0.445440\n",
       "2     0.463367\n",
       "3     0.501949\n",
       "4     0.544037\n",
       "...        ...\n",
       "2470  0.588075\n",
       "2471  0.592362\n",
       "2472  0.571317\n",
       "2473  0.561185\n",
       "2474  0.583398\n",
       "\n",
       "[2475 rows x 1 columns]"
      ]
     },
     "execution_count": 9,
     "metadata": {},
     "output_type": "execute_result"
    }
   ],
   "source": [
    "data_y"
   ]
  },
  {
   "cell_type": "code",
   "execution_count": 10,
   "metadata": {},
   "outputs": [
    {
     "data": {
      "text/html": [
       "<div>\n",
       "<style scoped>\n",
       "    .dataframe tbody tr th:only-of-type {\n",
       "        vertical-align: middle;\n",
       "    }\n",
       "\n",
       "    .dataframe tbody tr th {\n",
       "        vertical-align: top;\n",
       "    }\n",
       "\n",
       "    .dataframe thead th {\n",
       "        text-align: right;\n",
       "    }\n",
       "</style>\n",
       "<table border=\"1\" class=\"dataframe\">\n",
       "  <thead>\n",
       "    <tr style=\"text-align: right;\">\n",
       "      <th></th>\n",
       "      <th>rate</th>\n",
       "      <th>y</th>\n",
       "    </tr>\n",
       "  </thead>\n",
       "  <tbody>\n",
       "    <tr>\n",
       "      <td>0</td>\n",
       "      <td>0.591972</td>\n",
       "      <td>0.464926</td>\n",
       "    </tr>\n",
       "    <tr>\n",
       "      <td>1</td>\n",
       "      <td>0.538581</td>\n",
       "      <td>0.445440</td>\n",
       "    </tr>\n",
       "    <tr>\n",
       "      <td>2</td>\n",
       "      <td>0.515588</td>\n",
       "      <td>0.463367</td>\n",
       "    </tr>\n",
       "    <tr>\n",
       "      <td>3</td>\n",
       "      <td>0.478956</td>\n",
       "      <td>0.501949</td>\n",
       "    </tr>\n",
       "    <tr>\n",
       "      <td>4</td>\n",
       "      <td>0.487140</td>\n",
       "      <td>0.544037</td>\n",
       "    </tr>\n",
       "  </tbody>\n",
       "</table>\n",
       "</div>"
      ],
      "text/plain": [
       "       rate         y\n",
       "0  0.591972  0.464926\n",
       "1  0.538581  0.445440\n",
       "2  0.515588  0.463367\n",
       "3  0.478956  0.501949\n",
       "4  0.487140  0.544037"
      ]
     },
     "execution_count": 10,
     "metadata": {},
     "output_type": "execute_result"
    }
   ],
   "source": [
    "result = pd.concat([data_1,data_y], axis=1)[:-20]\n",
    "result.head()"
   ]
  },
  {
   "cell_type": "code",
   "execution_count": 11,
   "metadata": {},
   "outputs": [],
   "source": [
    "y=result['y']"
   ]
  },
  {
   "cell_type": "code",
   "execution_count": 12,
   "metadata": {},
   "outputs": [
    {
     "data": {
      "text/plain": [
       "2465"
      ]
     },
     "execution_count": 12,
     "metadata": {},
     "output_type": "execute_result"
    }
   ],
   "source": [
    "len(result)"
   ]
  },
  {
   "cell_type": "markdown",
   "metadata": {},
   "source": [
    "### 5일 데이터를 가지고 5일뒤 예측"
   ]
  },
  {
   "cell_type": "code",
   "execution_count": 13,
   "metadata": {},
   "outputs": [
    {
     "name": "stderr",
     "output_type": "stream",
     "text": [
      "C:\\Users\\wsm26\\Anaconda3\\lib\\site-packages\\ipykernel_launcher.py:1: FutureWarning: Method .as_matrix will be removed in a future version. Use .values instead.\n",
      "  \"\"\"Entry point for launching an IPython kernel.\n"
     ]
    }
   ],
   "source": [
    "d_matrix=data_1.as_matrix()\n",
    "\n",
    "p_result =[]\n",
    "for i in range(len(data_1)-20):\n",
    "    for j in range(10):\n",
    "        p_result.append(d_matrix[i+j])"
   ]
  },
  {
   "cell_type": "code",
   "execution_count": 14,
   "metadata": {},
   "outputs": [
    {
     "data": {
      "text/plain": [
       "array([[[0.59197194],\n",
       "        [0.53858145],\n",
       "        [0.51558846],\n",
       "        ...,\n",
       "        [0.45946999],\n",
       "        [0.44427124],\n",
       "        [0.44076383]],\n",
       "\n",
       "       [[0.53858145],\n",
       "        [0.51558846],\n",
       "        [0.47895557],\n",
       "        ...,\n",
       "        [0.44427124],\n",
       "        [0.44076383],\n",
       "        [0.46492595]],\n",
       "\n",
       "       [[0.51558846],\n",
       "        [0.47895557],\n",
       "        [0.48713952],\n",
       "        ...,\n",
       "        [0.44076383],\n",
       "        [0.46492595],\n",
       "        [0.44544037]],\n",
       "\n",
       "       ...,\n",
       "\n",
       "       [[0.69953235],\n",
       "        [0.63367108],\n",
       "        [0.63834762],\n",
       "        ...,\n",
       "        [0.59469992],\n",
       "        [0.60249415],\n",
       "        [0.59275136]],\n",
       "\n",
       "       [[0.63367108],\n",
       "        [0.63834762],\n",
       "        [0.6141855 ],\n",
       "        ...,\n",
       "        [0.60249415],\n",
       "        [0.59275136],\n",
       "        [0.59158223]],\n",
       "\n",
       "       [[0.63834762],\n",
       "        [0.6141855 ],\n",
       "        [0.60872954],\n",
       "        ...,\n",
       "        [0.59275136],\n",
       "        [0.59158223],\n",
       "        [0.57950117]]])"
      ]
     },
     "execution_count": 14,
     "metadata": {},
     "output_type": "execute_result"
    }
   ],
   "source": [
    "p_result=np.array(p_result)\n",
    "p_result=p_result.reshape((len(d_matrix)-20,10,1))\n",
    "p_result"
   ]
  },
  {
   "cell_type": "code",
   "execution_count": 15,
   "metadata": {},
   "outputs": [
    {
     "data": {
      "text/plain": [
       "(2465, 10, 1)"
      ]
     },
     "execution_count": 15,
     "metadata": {},
     "output_type": "execute_result"
    }
   ],
   "source": [
    "p_result.shape"
   ]
  },
  {
   "cell_type": "code",
   "execution_count": 16,
   "metadata": {},
   "outputs": [
    {
     "data": {
      "text/plain": [
       "((2465, 10, 1), (2465,))"
      ]
     },
     "execution_count": 16,
     "metadata": {},
     "output_type": "execute_result"
    }
   ],
   "source": [
    "p_result.shape, y.shape"
   ]
  },
  {
   "cell_type": "markdown",
   "metadata": {},
   "source": [
    "### train, test set 만들기"
   ]
  },
  {
   "cell_type": "code",
   "execution_count": 17,
   "metadata": {},
   "outputs": [],
   "source": [
    "X_train,X_test = p_result[:int(len(p_result)*0.8)],p_result[int(len(p_result)*0.8):]\n",
    "y_train,y_test = y[:int(len(p_result)*0.8)],y[int(len(p_result)*0.8):]"
   ]
  },
  {
   "cell_type": "code",
   "execution_count": 18,
   "metadata": {
    "scrolled": true
   },
   "outputs": [
    {
     "data": {
      "text/plain": [
       "((1972, 10, 1), (1972,), (493, 10, 1), (493,))"
      ]
     },
     "execution_count": 18,
     "metadata": {},
     "output_type": "execute_result"
    }
   ],
   "source": [
    "X_train.shape, y_train.shape, X_test.shape, y_test.shape"
   ]
  },
  {
   "cell_type": "markdown",
   "metadata": {},
   "source": [
    "### 모델 구현"
   ]
  },
  {
   "cell_type": "code",
   "execution_count": 19,
   "metadata": {},
   "outputs": [],
   "source": [
    "model = Sequential()\n",
    "\n",
    "model.add(LSTM(units=100, input_shape=(10,1)))\n",
    "model.add(Dense(units=1))\n",
    "model.add(Dropout(0.1))"
   ]
  },
  {
   "cell_type": "code",
   "execution_count": 20,
   "metadata": {
    "scrolled": false
   },
   "outputs": [
    {
     "name": "stdout",
     "output_type": "stream",
     "text": [
      "Epoch 1/100\n",
      "1972/1972 [==============================] - 2s 1ms/step - loss: 0.0237\n",
      "Epoch 2/100\n",
      "1972/1972 [==============================] - 2s 777us/step - loss: 0.0246\n",
      "Epoch 3/100\n",
      "1972/1972 [==============================] - 2s 780us/step - loss: 0.0227\n",
      "Epoch 4/100\n",
      "1972/1972 [==============================] - 2s 792us/step - loss: 0.0227\n",
      "Epoch 5/100\n",
      "1972/1972 [==============================] - 2s 905us/step - loss: 0.0217\n",
      "Epoch 6/100\n",
      "1972/1972 [==============================] - 2s 914us/step - loss: 0.0277 \n",
      "Epoch 7/100\n",
      "1972/1972 [==============================] - 2s 1ms/step - loss: 0.0213\n",
      "Epoch 8/100\n",
      "1972/1972 [==============================] - 2s 802us/step - loss: 0.0223\n",
      "Epoch 9/100\n",
      "1972/1972 [==============================] - 2s 777us/step - loss: 0.0229\n",
      "Epoch 10/100\n",
      "1972/1972 [==============================] - 2s 805us/step - loss: 0.0222\n",
      "Epoch 11/100\n",
      "1972/1972 [==============================] - 2s 778us/step - loss: 0.0222\n",
      "Epoch 12/100\n",
      "1972/1972 [==============================] - 2s 792us/step - loss: 0.0201\n",
      "Epoch 13/100\n",
      "1972/1972 [==============================] - 2s 772us/step - loss: 0.0232\n",
      "Epoch 14/100\n",
      "1972/1972 [==============================] - 2s 815us/step - loss: 0.0224\n",
      "Epoch 15/100\n",
      "1972/1972 [==============================] - 2s 783us/step - loss: 0.0204\n",
      "Epoch 16/100\n",
      "1972/1972 [==============================] - 2s 864us/step - loss: 0.0238\n",
      "Epoch 17/100\n",
      "1972/1972 [==============================] - 2s 782us/step - loss: 0.0212\n",
      "Epoch 18/100\n",
      "1972/1972 [==============================] - 2s 1ms/step - loss: 0.0224\n",
      "Epoch 19/100\n",
      "1972/1972 [==============================] - 2s 905us/step - loss: 0.0191\n",
      "Epoch 20/100\n",
      "1972/1972 [==============================] - 2s 1ms/step - loss: 0.0223\n",
      "Epoch 21/100\n",
      "1972/1972 [==============================] - 2s 1ms/step - loss: 0.0190\n",
      "Epoch 22/100\n",
      "1972/1972 [==============================] - 2s 947us/step - loss: 0.0230\n",
      "Epoch 23/100\n",
      "1972/1972 [==============================] - 2s 780us/step - loss: 0.0217\n",
      "Epoch 24/100\n",
      "1972/1972 [==============================] - 2s 762us/step - loss: 0.0200\n",
      "Epoch 25/100\n",
      "1972/1972 [==============================] - 2s 777us/step - loss: 0.0233\n",
      "Epoch 26/100\n",
      "1972/1972 [==============================] - 2s 765us/step - loss: 0.0191\n",
      "Epoch 27/100\n",
      "1972/1972 [==============================] - 2s 800us/step - loss: 0.0224\n",
      "Epoch 28/100\n",
      "1972/1972 [==============================] - 1s 751us/step - loss: 0.0229\n",
      "Epoch 29/100\n",
      "1972/1972 [==============================] - 2s 780us/step - loss: 0.0209\n",
      "Epoch 30/100\n",
      "1972/1972 [==============================] - 2s 866us/step - loss: 0.0185 0\n",
      "Epoch 31/100\n",
      "1972/1972 [==============================] - 2s 825us/step - loss: 0.0247\n",
      "Epoch 32/100\n",
      "1972/1972 [==============================] - 2s 869us/step - loss: 0.0208\n",
      "Epoch 33/100\n",
      "1972/1972 [==============================] - 2s 848us/step - loss: 0.0224\n",
      "Epoch 34/100\n",
      "1972/1972 [==============================] - 2s 823us/step - loss: 0.0211\n",
      "Epoch 35/100\n",
      "1972/1972 [==============================] - 2s 792us/step - loss: 0.0259\n",
      "Epoch 36/100\n",
      "1972/1972 [==============================] - 2s 765us/step - loss: 0.0235\n",
      "Epoch 37/100\n",
      "1972/1972 [==============================] - 2s 791us/step - loss: 0.0256\n",
      "Epoch 38/100\n",
      "1972/1972 [==============================] - 2s 769us/step - loss: 0.0232\n",
      "Epoch 39/100\n",
      "1972/1972 [==============================] - 2s 809us/step - loss: 0.0222\n",
      "Epoch 40/100\n",
      "1972/1972 [==============================] - 1s 754us/step - loss: 0.0212\n",
      "Epoch 41/100\n",
      "1972/1972 [==============================] - 2s 932us/step - loss: 0.0226\n",
      "Epoch 42/100\n",
      "1972/1972 [==============================] - 2s 900us/step - loss: 0.0219\n",
      "Epoch 43/100\n",
      "1972/1972 [==============================] - 2s 899us/step - loss: 0.0214\n",
      "Epoch 44/100\n",
      "1972/1972 [==============================] - 2s 869us/step - loss: 0.0199\n",
      "Epoch 45/100\n",
      "1972/1972 [==============================] - 2s 825us/step - loss: 0.0248\n",
      "Epoch 46/100\n",
      "1972/1972 [==============================] - 2s 883us/step - loss: 0.0232\n",
      "Epoch 47/100\n",
      "1972/1972 [==============================] - 2s 803us/step - loss: 0.0227\n",
      "Epoch 48/100\n",
      "1972/1972 [==============================] - 2s 833us/step - loss: 0.0243\n",
      "Epoch 49/100\n",
      "1972/1972 [==============================] - 2s 844us/step - loss: 0.0201\n",
      "Epoch 50/100\n",
      "1972/1972 [==============================] - 2s 848us/step - loss: 0.0221\n",
      "Epoch 51/100\n",
      "1972/1972 [==============================] - 2s 793us/step - loss: 0.0207\n",
      "Epoch 52/100\n",
      "1972/1972 [==============================] - 2s 925us/step - loss: 0.0215\n",
      "Epoch 53/100\n",
      "1972/1972 [==============================] - 2s 844us/step - loss: 0.0243\n",
      "Epoch 54/100\n",
      "1972/1972 [==============================] - 2s 1ms/step - loss: 0.0210A: 0s - loss: 0\n",
      "Epoch 55/100\n",
      "1972/1972 [==============================] - 2s 967us/step - loss: 0.0197\n",
      "Epoch 56/100\n",
      "1972/1972 [==============================] - 2s 799us/step - loss: 0.0238\n",
      "Epoch 57/100\n",
      "1972/1972 [==============================] - 2s 824us/step - loss: 0.0216\n",
      "Epoch 58/100\n",
      "1972/1972 [==============================] - ETA: 0s - loss: 0.023 - 2s 820us/step - loss: 0.0235\n",
      "Epoch 59/100\n",
      "1972/1972 [==============================] - 1s 729us/step - loss: 0.0247\n",
      "Epoch 60/100\n",
      "1972/1972 [==============================] - 1s 701us/step - loss: 0.0206\n",
      "Epoch 61/100\n",
      "1972/1972 [==============================] - 1s 720us/step - loss: 0.0245\n",
      "Epoch 62/100\n",
      "1972/1972 [==============================] - 1s 695us/step - loss: 0.0225\n",
      "Epoch 63/100\n",
      "1972/1972 [==============================] - 1s 710us/step - loss: 0.0229\n",
      "Epoch 64/100\n",
      "1972/1972 [==============================] - 2s 769us/step - loss: 0.0188\n",
      "Epoch 65/100\n",
      "1972/1972 [==============================] - 1s 661us/step - loss: 0.0239\n",
      "Epoch 66/100\n",
      "1972/1972 [==============================] - 1s 654us/step - loss: 0.0231\n",
      "Epoch 67/100\n",
      "1972/1972 [==============================] - 1s 713us/step - loss: 0.0221\n",
      "Epoch 68/100\n",
      "1972/1972 [==============================] - 1s 705us/step - loss: 0.0242\n",
      "Epoch 69/100\n",
      "1972/1972 [==============================] - 1s 639us/step - loss: 0.0242\n",
      "Epoch 70/100\n",
      "1972/1972 [==============================] - 1s 663us/step - loss: 0.0230\n",
      "Epoch 71/100\n",
      "1972/1972 [==============================] - 1s 642us/step - loss: 0.0258\n",
      "Epoch 72/100\n",
      "1972/1972 [==============================] - 1s 640us/step - loss: 0.0228\n",
      "Epoch 73/100\n",
      "1972/1972 [==============================] - 1s 660us/step - loss: 0.0228\n",
      "Epoch 74/100\n",
      "1972/1972 [==============================] - 1s 639us/step - loss: 0.0233\n",
      "Epoch 75/100\n",
      "1972/1972 [==============================] - 1s 652us/step - loss: 0.0250\n",
      "Epoch 76/100\n",
      "1972/1972 [==============================] - 1s 638us/step - loss: 0.0239\n",
      "Epoch 77/100\n",
      "1972/1972 [==============================] - 1s 638us/step - loss: 0.0251\n",
      "Epoch 78/100\n",
      "1972/1972 [==============================] - 1s 661us/step - loss: 0.0231\n",
      "Epoch 79/100\n",
      "1972/1972 [==============================] - 1s 638us/step - loss: 0.0236\n",
      "Epoch 80/100\n",
      "1972/1972 [==============================] - 1s 651us/step - loss: 0.0217\n",
      "Epoch 81/100\n",
      "1972/1972 [==============================] - 1s 636us/step - loss: 0.0234\n",
      "Epoch 82/100\n",
      "1972/1972 [==============================] - 1s 650us/step - loss: 0.0253\n",
      "Epoch 83/100\n",
      "1972/1972 [==============================] - 1s 648us/step - loss: 0.0230\n",
      "Epoch 84/100\n",
      "1972/1972 [==============================] - 1s 636us/step - loss: 0.0213\n",
      "Epoch 85/100\n",
      "1972/1972 [==============================] - 1s 651us/step - loss: 0.0224\n",
      "Epoch 86/100\n",
      "1972/1972 [==============================] - 1s 639us/step - loss: 0.0248\n",
      "Epoch 87/100\n",
      "1972/1972 [==============================] - 1s 652us/step - loss: 0.0182\n",
      "Epoch 88/100\n",
      "1972/1972 [==============================] - 1s 641us/step - loss: 0.0246\n",
      "Epoch 89/100\n",
      "1972/1972 [==============================] - 1s 638us/step - loss: 0.0232\n",
      "Epoch 90/100\n",
      "1972/1972 [==============================] - 1s 651us/step - loss: 0.0246\n",
      "Epoch 91/100\n",
      "1972/1972 [==============================] - 1s 638us/step - loss: 0.0249\n",
      "Epoch 92/100\n",
      "1972/1972 [==============================] - 1s 654us/step - loss: 0.0240\n",
      "Epoch 93/100\n",
      "1972/1972 [==============================] - 1s 642us/step - loss: 0.0232\n",
      "Epoch 94/100\n",
      "1972/1972 [==============================] - 1s 635us/step - loss: 0.0234\n"
     ]
    },
    {
     "name": "stdout",
     "output_type": "stream",
     "text": [
      "Epoch 95/100\n",
      "1972/1972 [==============================] - 1s 650us/step - loss: 0.0241\n",
      "Epoch 96/100\n",
      "1972/1972 [==============================] - 2s 832us/step - loss: 0.0175\n",
      "Epoch 97/100\n",
      "1972/1972 [==============================] - 2s 882us/step - loss: 0.0222\n",
      "Epoch 98/100\n",
      "1972/1972 [==============================] - 1s 717us/step - loss: 0.0227\n",
      "Epoch 99/100\n",
      "1972/1972 [==============================] - 1s 657us/step - loss: 0.0238\n",
      "Epoch 100/100\n",
      "1972/1972 [==============================] - 1s 638us/step - loss: 0.0229\n"
     ]
    },
    {
     "data": {
      "text/plain": [
       "<keras.callbacks.callbacks.History at 0x1e5780b6848>"
      ]
     },
     "execution_count": 20,
     "metadata": {},
     "output_type": "execute_result"
    }
   ],
   "source": [
    "model.compile(optimizer='rmsprop', loss='mean_squared_error')\n",
    "model.fit(X_train, y_train, epochs=100, batch_size=12)"
   ]
  },
  {
   "cell_type": "markdown",
   "metadata": {},
   "source": [
    "### 예측"
   ]
  },
  {
   "cell_type": "code",
   "execution_count": 21,
   "metadata": {
    "scrolled": true
   },
   "outputs": [
    {
     "data": {
      "text/plain": [
       "((493, 1), (493,))"
      ]
     },
     "execution_count": 21,
     "metadata": {},
     "output_type": "execute_result"
    }
   ],
   "source": [
    "predicted = model.predict(X_test)\n",
    "predicted.shape , y_test.shape"
   ]
  },
  {
   "cell_type": "code",
   "execution_count": 22,
   "metadata": {
    "scrolled": false
   },
   "outputs": [
    {
     "data": {
      "text/plain": [
       "array([[0.22279945],\n",
       "       [0.20799577],\n",
       "       [0.19950287],\n",
       "       [0.20244218],\n",
       "       [0.18856691],\n",
       "       [0.19040869],\n",
       "       [0.21025705],\n",
       "       [0.22029918],\n",
       "       [0.22197407],\n",
       "       [0.20680782],\n",
       "       [0.18731543],\n",
       "       [0.19798708],\n",
       "       [0.20019563],\n",
       "       [0.21139121],\n",
       "       [0.21317694],\n",
       "       [0.2107926 ],\n",
       "       [0.21440677],\n",
       "       [0.22507818],\n",
       "       [0.20476368],\n",
       "       [0.20323622],\n",
       "       [0.19330193],\n",
       "       [0.21823147],\n",
       "       [0.22384125],\n",
       "       [0.21750814],\n",
       "       [0.22725639],\n",
       "       [0.24292845],\n",
       "       [0.28716296],\n",
       "       [0.30602938],\n",
       "       [0.27031276],\n",
       "       [0.28196532],\n",
       "       [0.300625  ],\n",
       "       [0.2697311 ],\n",
       "       [0.26341188],\n",
       "       [0.25460297],\n",
       "       [0.21440068],\n",
       "       [0.21724267],\n",
       "       [0.23503035],\n",
       "       [0.260947  ],\n",
       "       [0.24918741],\n",
       "       [0.23288497],\n",
       "       [0.22397141],\n",
       "       [0.25880525],\n",
       "       [0.2597886 ],\n",
       "       [0.2554286 ],\n",
       "       [0.23955551],\n",
       "       [0.21664253],\n",
       "       [0.21318606],\n",
       "       [0.21513724],\n",
       "       [0.19846621],\n",
       "       [0.20147407],\n",
       "       [0.2032047 ],\n",
       "       [0.20326227],\n",
       "       [0.21596059],\n",
       "       [0.22301798],\n",
       "       [0.22285901],\n",
       "       [0.2244013 ],\n",
       "       [0.21761304],\n",
       "       [0.25461462],\n",
       "       [0.26002792],\n",
       "       [0.22935727],\n",
       "       [0.21781185],\n",
       "       [0.20829582],\n",
       "       [0.19923137],\n",
       "       [0.1769776 ],\n",
       "       [0.17346263],\n",
       "       [0.17334196],\n",
       "       [0.17941204],\n",
       "       [0.20173848],\n",
       "       [0.20969522],\n",
       "       [0.21119398],\n",
       "       [0.20790048],\n",
       "       [0.21522176],\n",
       "       [0.21992384],\n",
       "       [0.22968882],\n",
       "       [0.21515167],\n",
       "       [0.20714423],\n",
       "       [0.19721675],\n",
       "       [0.20805879],\n",
       "       [0.21428797],\n",
       "       [0.2405813 ],\n",
       "       [0.24993905],\n",
       "       [0.25396094],\n",
       "       [0.24347004],\n",
       "       [0.21383983],\n",
       "       [0.23446845],\n",
       "       [0.24211156],\n",
       "       [0.24156806],\n",
       "       [0.24690783],\n",
       "       [0.2586544 ],\n",
       "       [0.24019831],\n",
       "       [0.21590954],\n",
       "       [0.20730796],\n",
       "       [0.22584462],\n",
       "       [0.24725905],\n",
       "       [0.25079364],\n",
       "       [0.2540301 ],\n",
       "       [0.2681006 ],\n",
       "       [0.25316003],\n",
       "       [0.25356737],\n",
       "       [0.25065923],\n",
       "       [0.2316317 ],\n",
       "       [0.2388444 ],\n",
       "       [0.25732574],\n",
       "       [0.24253166],\n",
       "       [0.23938599],\n",
       "       [0.22376683],\n",
       "       [0.21755138],\n",
       "       [0.21139482],\n",
       "       [0.22762406],\n",
       "       [0.23054898],\n",
       "       [0.2358056 ],\n",
       "       [0.26164448],\n",
       "       [0.29413223],\n",
       "       [0.33987   ],\n",
       "       [0.34711164],\n",
       "       [0.35510954],\n",
       "       [0.3593563 ],\n",
       "       [0.3585735 ],\n",
       "       [0.38138628],\n",
       "       [0.37979487],\n",
       "       [0.38771567],\n",
       "       [0.40134165],\n",
       "       [0.3873395 ],\n",
       "       [0.38640213],\n",
       "       [0.39893302],\n",
       "       [0.3804414 ],\n",
       "       [0.3886471 ],\n",
       "       [0.3880145 ],\n",
       "       [0.36937547],\n",
       "       [0.37278718],\n",
       "       [0.39681393],\n",
       "       [0.4218396 ],\n",
       "       [0.40864173],\n",
       "       [0.42520246],\n",
       "       [0.41557434],\n",
       "       [0.4264356 ],\n",
       "       [0.4349362 ],\n",
       "       [0.44704515],\n",
       "       [0.42685026],\n",
       "       [0.4475339 ],\n",
       "       [0.42403784],\n",
       "       [0.39539424],\n",
       "       [0.3948324 ],\n",
       "       [0.38417456],\n",
       "       [0.38678357],\n",
       "       [0.39198187],\n",
       "       [0.4035468 ],\n",
       "       [0.4230104 ],\n",
       "       [0.40930206],\n",
       "       [0.41524395],\n",
       "       [0.3933195 ],\n",
       "       [0.38808724],\n",
       "       [0.41573158],\n",
       "       [0.44250867],\n",
       "       [0.4384762 ],\n",
       "       [0.43354112],\n",
       "       [0.41687837],\n",
       "       [0.40257165],\n",
       "       [0.38970923],\n",
       "       [0.39002353],\n",
       "       [0.39706427],\n",
       "       [0.40105164],\n",
       "       [0.37672794],\n",
       "       [0.36074647],\n",
       "       [0.35602063],\n",
       "       [0.35547286],\n",
       "       [0.3700026 ],\n",
       "       [0.37207434],\n",
       "       [0.37459287],\n",
       "       [0.38660634],\n",
       "       [0.39970112],\n",
       "       [0.40666568],\n",
       "       [0.42357045],\n",
       "       [0.42048734],\n",
       "       [0.42150313],\n",
       "       [0.40146917],\n",
       "       [0.39298618],\n",
       "       [0.41565686],\n",
       "       [0.41770658],\n",
       "       [0.40628588],\n",
       "       [0.39556187],\n",
       "       [0.38427404],\n",
       "       [0.3704101 ],\n",
       "       [0.36083132],\n",
       "       [0.36232823],\n",
       "       [0.38083923],\n",
       "       [0.42226252],\n",
       "       [0.43348187],\n",
       "       [0.43714443],\n",
       "       [0.4404507 ],\n",
       "       [0.47396174],\n",
       "       [0.4450434 ],\n",
       "       [0.44233373],\n",
       "       [0.4252455 ],\n",
       "       [0.4134196 ],\n",
       "       [0.43776307],\n",
       "       [0.44540542],\n",
       "       [0.43413568],\n",
       "       [0.4499787 ],\n",
       "       [0.43976483],\n",
       "       [0.45940506],\n",
       "       [0.46802303],\n",
       "       [0.46137637],\n",
       "       [0.46755466],\n",
       "       [0.46360677],\n",
       "       [0.46172398],\n",
       "       [0.41752487],\n",
       "       [0.40486288],\n",
       "       [0.4037957 ],\n",
       "       [0.39817584],\n",
       "       [0.38928673],\n",
       "       [0.41317642],\n",
       "       [0.43675488],\n",
       "       [0.45048553],\n",
       "       [0.44032198],\n",
       "       [0.43261552],\n",
       "       [0.42694908],\n",
       "       [0.4219213 ],\n",
       "       [0.42153794],\n",
       "       [0.43408367],\n",
       "       [0.42752346],\n",
       "       [0.4319237 ],\n",
       "       [0.4306695 ],\n",
       "       [0.4297604 ],\n",
       "       [0.42700437],\n",
       "       [0.40323535],\n",
       "       [0.39635375],\n",
       "       [0.37442368],\n",
       "       [0.35947996],\n",
       "       [0.37096605],\n",
       "       [0.38617158],\n",
       "       [0.38856375],\n",
       "       [0.41057336],\n",
       "       [0.42858887],\n",
       "       [0.42351407],\n",
       "       [0.4108701 ],\n",
       "       [0.42722958],\n",
       "       [0.4364625 ],\n",
       "       [0.43072447],\n",
       "       [0.41427127],\n",
       "       [0.4258947 ],\n",
       "       [0.41053888],\n",
       "       [0.41305244],\n",
       "       [0.41494292],\n",
       "       [0.40072435],\n",
       "       [0.38904697],\n",
       "       [0.3884612 ],\n",
       "       [0.39146855],\n",
       "       [0.41979635],\n",
       "       [0.41450343],\n",
       "       [0.3898159 ],\n",
       "       [0.40066472],\n",
       "       [0.4017368 ],\n",
       "       [0.39198875],\n",
       "       [0.386792  ],\n",
       "       [0.39933157],\n",
       "       [0.39619803],\n",
       "       [0.40193486],\n",
       "       [0.40068343],\n",
       "       [0.40014568],\n",
       "       [0.4174724 ],\n",
       "       [0.43114406],\n",
       "       [0.42504936],\n",
       "       [0.42383093],\n",
       "       [0.4144371 ],\n",
       "       [0.38640514],\n",
       "       [0.387935  ],\n",
       "       [0.38542628],\n",
       "       [0.36628854],\n",
       "       [0.38197207],\n",
       "       [0.4060659 ],\n",
       "       [0.41129997],\n",
       "       [0.4114956 ],\n",
       "       [0.4122298 ],\n",
       "       [0.4026934 ],\n",
       "       [0.4125895 ],\n",
       "       [0.4223024 ],\n",
       "       [0.41261387],\n",
       "       [0.4210997 ],\n",
       "       [0.40598047],\n",
       "       [0.41041762],\n",
       "       [0.4153902 ],\n",
       "       [0.39922857],\n",
       "       [0.38953975],\n",
       "       [0.3875771 ],\n",
       "       [0.39440167],\n",
       "       [0.41177902],\n",
       "       [0.41579372],\n",
       "       [0.42263398],\n",
       "       [0.42514688],\n",
       "       [0.44422093],\n",
       "       [0.44711226],\n",
       "       [0.4274767 ],\n",
       "       [0.43532467],\n",
       "       [0.44029722],\n",
       "       [0.45147958],\n",
       "       [0.4441546 ],\n",
       "       [0.43426058],\n",
       "       [0.4321852 ],\n",
       "       [0.41690025],\n",
       "       [0.4287158 ],\n",
       "       [0.44684032],\n",
       "       [0.43857163],\n",
       "       [0.4465077 ],\n",
       "       [0.4579783 ],\n",
       "       [0.4528818 ],\n",
       "       [0.44089234],\n",
       "       [0.45041883],\n",
       "       [0.44823828],\n",
       "       [0.44970408],\n",
       "       [0.4529259 ],\n",
       "       [0.46985018],\n",
       "       [0.47571123],\n",
       "       [0.4704842 ],\n",
       "       [0.46349207],\n",
       "       [0.46743438],\n",
       "       [0.44576377],\n",
       "       [0.44987696],\n",
       "       [0.45190033],\n",
       "       [0.4521698 ],\n",
       "       [0.45525137],\n",
       "       [0.46796682],\n",
       "       [0.46987888],\n",
       "       [0.4891654 ],\n",
       "       [0.5300704 ],\n",
       "       [0.53532964],\n",
       "       [0.5299225 ],\n",
       "       [0.54850715],\n",
       "       [0.5498099 ],\n",
       "       [0.56775147],\n",
       "       [0.569847  ],\n",
       "       [0.570049  ],\n",
       "       [0.58993137],\n",
       "       [0.5985596 ],\n",
       "       [0.6153719 ],\n",
       "       [0.6290096 ],\n",
       "       [0.63740176],\n",
       "       [0.63888156],\n",
       "       [0.64862233],\n",
       "       [0.6495268 ],\n",
       "       [0.65081114],\n",
       "       [0.65524954],\n",
       "       [0.6440143 ],\n",
       "       [0.63837856],\n",
       "       [0.6199428 ],\n",
       "       [0.6310425 ],\n",
       "       [0.6499893 ],\n",
       "       [0.6400563 ],\n",
       "       [0.64370453],\n",
       "       [0.6165673 ],\n",
       "       [0.61062586],\n",
       "       [0.6047942 ],\n",
       "       [0.6034838 ],\n",
       "       [0.6184864 ],\n",
       "       [0.611453  ],\n",
       "       [0.61115634],\n",
       "       [0.6213012 ],\n",
       "       [0.6192894 ],\n",
       "       [0.62672037],\n",
       "       [0.6226253 ],\n",
       "       [0.59570944],\n",
       "       [0.5637943 ],\n",
       "       [0.5435359 ],\n",
       "       [0.5289161 ],\n",
       "       [0.5174585 ],\n",
       "       [0.5285341 ],\n",
       "       [0.52478105],\n",
       "       [0.5232286 ],\n",
       "       [0.520035  ],\n",
       "       [0.55130523],\n",
       "       [0.5717444 ],\n",
       "       [0.5680864 ],\n",
       "       [0.57180166],\n",
       "       [0.5993197 ],\n",
       "       [0.60501194],\n",
       "       [0.60975784],\n",
       "       [0.5844769 ],\n",
       "       [0.59518945],\n",
       "       [0.6022813 ],\n",
       "       [0.59999156],\n",
       "       [0.6061789 ],\n",
       "       [0.6035712 ],\n",
       "       [0.58313763],\n",
       "       [0.5963261 ],\n",
       "       [0.599716  ],\n",
       "       [0.5989221 ],\n",
       "       [0.60428286],\n",
       "       [0.61935014],\n",
       "       [0.61716664],\n",
       "       [0.612256  ],\n",
       "       [0.61176413],\n",
       "       [0.6338851 ],\n",
       "       [0.6557953 ],\n",
       "       [0.7135871 ],\n",
       "       [0.7226528 ],\n",
       "       [0.7230074 ],\n",
       "       [0.7122914 ],\n",
       "       [0.7068793 ],\n",
       "       [0.72663075],\n",
       "       [0.7379784 ],\n",
       "       [0.71393037],\n",
       "       [0.71926904],\n",
       "       [0.71084607],\n",
       "       [0.7090736 ],\n",
       "       [0.6882571 ],\n",
       "       [0.69158125],\n",
       "       [0.7155593 ],\n",
       "       [0.7361217 ],\n",
       "       [0.71895474],\n",
       "       [0.7201054 ],\n",
       "       [0.7259047 ],\n",
       "       [0.7071459 ],\n",
       "       [0.71455866],\n",
       "       [0.72576076],\n",
       "       [0.70747644],\n",
       "       [0.6735707 ],\n",
       "       [0.6639573 ],\n",
       "       [0.6487216 ],\n",
       "       [0.646561  ],\n",
       "       [0.6448316 ],\n",
       "       [0.6200798 ],\n",
       "       [0.6336651 ],\n",
       "       [0.6416789 ],\n",
       "       [0.6571237 ],\n",
       "       [0.6439591 ],\n",
       "       [0.6502378 ],\n",
       "       [0.6535227 ],\n",
       "       [0.6679492 ],\n",
       "       [0.6708706 ],\n",
       "       [0.67820966],\n",
       "       [0.6713787 ],\n",
       "       [0.6678988 ],\n",
       "       [0.68631846],\n",
       "       [0.6642049 ],\n",
       "       [0.66198725],\n",
       "       [0.656062  ],\n",
       "       [0.66065043],\n",
       "       [0.63802826],\n",
       "       [0.6186738 ],\n",
       "       [0.6194397 ],\n",
       "       [0.6292713 ],\n",
       "       [0.6282108 ],\n",
       "       [0.60767186],\n",
       "       [0.59002054],\n",
       "       [0.5761185 ],\n",
       "       [0.58315223],\n",
       "       [0.57440794],\n",
       "       [0.584579  ],\n",
       "       [0.5698977 ],\n",
       "       [0.5588716 ],\n",
       "       [0.5648246 ],\n",
       "       [0.54278326],\n",
       "       [0.56111556],\n",
       "       [0.53832674],\n",
       "       [0.5359    ],\n",
       "       [0.5274573 ],\n",
       "       [0.5373077 ],\n",
       "       [0.5228778 ],\n",
       "       [0.5392681 ],\n",
       "       [0.5478598 ],\n",
       "       [0.5617709 ],\n",
       "       [0.5718135 ],\n",
       "       [0.5583841 ],\n",
       "       [0.5516644 ],\n",
       "       [0.56514746],\n",
       "       [0.57077706],\n",
       "       [0.5921959 ],\n",
       "       [0.59752023],\n",
       "       [0.5922401 ],\n",
       "       [0.58607036],\n",
       "       [0.59119964],\n",
       "       [0.6023878 ],\n",
       "       [0.606045  ],\n",
       "       [0.60645884],\n",
       "       [0.6260123 ],\n",
       "       [0.6519945 ],\n",
       "       [0.6407044 ],\n",
       "       [0.63851374],\n",
       "       [0.63725567],\n",
       "       [0.64628106],\n",
       "       [0.65085393],\n",
       "       [0.6351639 ],\n",
       "       [0.5785164 ],\n",
       "       [0.58034164],\n",
       "       [0.5601421 ],\n",
       "       [0.554176  ],\n",
       "       [0.5513621 ],\n",
       "       [0.54506785],\n",
       "       [0.5418967 ],\n",
       "       [0.5485368 ],\n",
       "       [0.54050785],\n",
       "       [0.53888404],\n",
       "       [0.5286208 ]], dtype=float32)"
      ]
     },
     "execution_count": 22,
     "metadata": {},
     "output_type": "execute_result"
    }
   ],
   "source": [
    "predicted"
   ]
  },
  {
   "cell_type": "code",
   "execution_count": 23,
   "metadata": {
    "scrolled": true
   },
   "outputs": [
    {
     "data": {
      "text/plain": [
       "1972    0.225253\n",
       "1973    0.217069\n",
       "1974    0.220966\n",
       "1975    0.203819\n",
       "1976    0.208106\n",
       "          ...   \n",
       "2460    0.602494\n",
       "2461    0.592751\n",
       "2462    0.591582\n",
       "2463    0.579501\n",
       "2464    0.579501\n",
       "Name: y, Length: 493, dtype: float64"
      ]
     },
     "execution_count": 23,
     "metadata": {},
     "output_type": "execute_result"
    }
   ],
   "source": [
    "y_test"
   ]
  },
  {
   "cell_type": "markdown",
   "metadata": {},
   "source": [
    "### 성능 평가"
   ]
  },
  {
   "cell_type": "code",
   "execution_count": 24,
   "metadata": {
    "scrolled": true
   },
   "outputs": [
    {
     "name": "stdout",
     "output_type": "stream",
     "text": [
      "RMSE = 0.048864983379587126\n"
     ]
    }
   ],
   "source": [
    "RMSE = mean_squared_error(y_test, predicted)**0.5    \n",
    "print(\"RMSE =\" ,RMSE)"
   ]
  },
  {
   "cell_type": "code",
   "execution_count": 25,
   "metadata": {},
   "outputs": [
    {
     "name": "stdout",
     "output_type": "stream",
     "text": [
      "std =0.02312492335317461\n"
     ]
    }
   ],
   "source": [
    "error = y_test.values - predicted.reshape(1,-1)\n",
    "print(\"std ={}\" .format(np.std(error)))"
   ]
  },
  {
   "cell_type": "code",
   "execution_count": 26,
   "metadata": {},
   "outputs": [
    {
     "data": {
      "text/plain": [
       "(493, 1)"
      ]
     },
     "execution_count": 26,
     "metadata": {},
     "output_type": "execute_result"
    }
   ],
   "source": [
    "predicted_original=sc_rate.inverse_transform(predicted)\n",
    "predicted_original.shape"
   ]
  },
  {
   "cell_type": "code",
   "execution_count": 27,
   "metadata": {},
   "outputs": [],
   "source": [
    "actual=data[len(X_train)+1:].reset_index()"
   ]
  },
  {
   "cell_type": "code",
   "execution_count": 28,
   "metadata": {},
   "outputs": [
    {
     "data": {
      "text/html": [
       "<div>\n",
       "<style scoped>\n",
       "    .dataframe tbody tr th:only-of-type {\n",
       "        vertical-align: middle;\n",
       "    }\n",
       "\n",
       "    .dataframe tbody tr th {\n",
       "        vertical-align: top;\n",
       "    }\n",
       "\n",
       "    .dataframe thead th {\n",
       "        text-align: right;\n",
       "    }\n",
       "</style>\n",
       "<table border=\"1\" class=\"dataframe\">\n",
       "  <thead>\n",
       "    <tr style=\"text-align: right;\">\n",
       "      <th></th>\n",
       "      <th>index</th>\n",
       "      <th>date</th>\n",
       "      <th>rate</th>\n",
       "    </tr>\n",
       "  </thead>\n",
       "  <tbody>\n",
       "    <tr>\n",
       "      <td>0</td>\n",
       "      <td>1973</td>\n",
       "      <td>2017-12-18</td>\n",
       "      <td>1090.5</td>\n",
       "    </tr>\n",
       "    <tr>\n",
       "      <td>1</td>\n",
       "      <td>1974</td>\n",
       "      <td>2017-12-19</td>\n",
       "      <td>1087.2</td>\n",
       "    </tr>\n",
       "    <tr>\n",
       "      <td>2</td>\n",
       "      <td>1975</td>\n",
       "      <td>2017-12-20</td>\n",
       "      <td>1085.9</td>\n",
       "    </tr>\n",
       "    <tr>\n",
       "      <td>3</td>\n",
       "      <td>1976</td>\n",
       "      <td>2017-12-21</td>\n",
       "      <td>1081.7</td>\n",
       "    </tr>\n",
       "    <tr>\n",
       "      <td>4</td>\n",
       "      <td>1977</td>\n",
       "      <td>2017-12-22</td>\n",
       "      <td>1080.4</td>\n",
       "    </tr>\n",
       "    <tr>\n",
       "      <td>...</td>\n",
       "      <td>...</td>\n",
       "      <td>...</td>\n",
       "      <td>...</td>\n",
       "    </tr>\n",
       "    <tr>\n",
       "      <td>507</td>\n",
       "      <td>2480</td>\n",
       "      <td>2020-01-10</td>\n",
       "      <td>1160.0</td>\n",
       "    </tr>\n",
       "    <tr>\n",
       "      <td>508</td>\n",
       "      <td>2481</td>\n",
       "      <td>2020-01-13</td>\n",
       "      <td>1161.1</td>\n",
       "    </tr>\n",
       "    <tr>\n",
       "      <td>509</td>\n",
       "      <td>2482</td>\n",
       "      <td>2020-01-14</td>\n",
       "      <td>1155.7</td>\n",
       "    </tr>\n",
       "    <tr>\n",
       "      <td>510</td>\n",
       "      <td>2483</td>\n",
       "      <td>2020-01-15</td>\n",
       "      <td>1153.1</td>\n",
       "    </tr>\n",
       "    <tr>\n",
       "      <td>511</td>\n",
       "      <td>2484</td>\n",
       "      <td>2020-01-16</td>\n",
       "      <td>1158.8</td>\n",
       "    </tr>\n",
       "  </tbody>\n",
       "</table>\n",
       "<p>512 rows × 3 columns</p>\n",
       "</div>"
      ],
      "text/plain": [
       "     index        date    rate\n",
       "0     1973  2017-12-18  1090.5\n",
       "1     1974  2017-12-19  1087.2\n",
       "2     1975  2017-12-20  1085.9\n",
       "3     1976  2017-12-21  1081.7\n",
       "4     1977  2017-12-22  1080.4\n",
       "..     ...         ...     ...\n",
       "507   2480  2020-01-10  1160.0\n",
       "508   2481  2020-01-13  1161.1\n",
       "509   2482  2020-01-14  1155.7\n",
       "510   2483  2020-01-15  1153.1\n",
       "511   2484  2020-01-16  1158.8\n",
       "\n",
       "[512 rows x 3 columns]"
      ]
     },
     "execution_count": 28,
     "metadata": {},
     "output_type": "execute_result"
    }
   ],
   "source": [
    "actual"
   ]
  },
  {
   "cell_type": "markdown",
   "metadata": {},
   "source": [
    "### 시각화"
   ]
  },
  {
   "cell_type": "code",
   "execution_count": 29,
   "metadata": {},
   "outputs": [
    {
     "data": {
      "text/plain": [
       "[<matplotlib.lines.Line2D at 0x1e57ab5cd08>]"
      ]
     },
     "execution_count": 29,
     "metadata": {},
     "output_type": "execute_result"
    },
    {
     "data": {
      "image/png": "[encoded data removed]",
      "text/plain": [
       "<Figure size 432x288 with 1 Axes>"
      ]
     },
     "metadata": {
      "needs_background": "light"
     },
     "output_type": "display_data"
    }
   ],
   "source": [
    "plt.plot(predicted_original)\n",
    "plt.plot(actual['rate'])"
   ]
  }
 ],
 "metadata": {
  "kernelspec": {
   "display_name": "Python 3",
   "language": "python",
   "name": "python3"
  },
  "language_info": {
   "codemirror_mode": {
    "name": "ipython",
    "version": 3
   },
   "file_extension": ".py",
   "mimetype": "text/x-python",
   "name": "python",
   "nbconvert_exporter": "python",
   "pygments_lexer": "ipython3",
   "version": "3.7.4"
  }
 },
 "nbformat": 4,
 "nbformat_minor": 2
}
