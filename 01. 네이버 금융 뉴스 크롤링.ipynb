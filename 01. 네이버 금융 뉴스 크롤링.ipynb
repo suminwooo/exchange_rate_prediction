{
 "cells": [
  {
   "cell_type": "markdown",
   "metadata": {},
   "source": [
    "## 날짜 지정하기"
   ]
  },
  {
   "cell_type": "code",
   "execution_count": 1,
   "metadata": {},
   "outputs": [],
   "source": [
    "from datetime import datetime, timedelta\n",
    "\n",
    "start_date = datetime.strptime('20100101', '%Y%m%d') #시작 날짜\n",
    "end_date = datetime.strptime('20100110', '%Y%m%d') #끝 날짜\n",
    "\n",
    "date_list = [] \n",
    "\n",
    "while start_date.strftime('%Y%m%d') != end_date.strftime('%Y%m%d'):\n",
    "    date_list.append(start_date.strftime('%Y%m%d')) \n",
    "    start_date += timedelta(days=1) "
   ]
  },
  {
   "cell_type": "markdown",
   "metadata": {},
   "source": [
    "## 크롤링"
   ]
  },
  {
   "cell_type": "markdown",
   "metadata": {},
   "source": [
    "네이버 금융 top10기사만 저장하기"
   ]
  },
  {
   "cell_type": "code",
   "execution_count": 2,
   "metadata": {},
   "outputs": [],
   "source": [
    "from bs4 import BeautifulSoup\n",
    "import requests\n",
    "import pandas as pd"
   ]
  },
  {
   "cell_type": "code",
   "execution_count": 3,
   "metadata": {
    "scrolled": true
   },
   "outputs": [],
   "source": [
    "temp= []\n",
    "for date in date_list:\n",
    "    \n",
    "    whole_source =\"\" \n",
    "    URL = 'https://finance.naver.com/news/news_list.nhn?mode=LSS3D&section_id=101&section_id2=258&section_id3=429&date=' + str(date)\n",
    "     \n",
    "    response = requests.get(URL)\n",
    "    whole_source = whole_source + response.text\n",
    "    \n",
    "    \n",
    "    soup = BeautifulSoup(whole_source, 'html.parser')\n",
    "    news = soup.select('#contentarea_left > ul > li.newsList.top > dl > dt')\n",
    "    \n",
    "    for title in news[:10] :\n",
    "        temp.append(title.text)\n"
   ]
  },
  {
   "cell_type": "code",
   "execution_count": 4,
   "metadata": {},
   "outputs": [
    {
     "data": {
      "text/plain": [
       "['\\nNDF, 1,160.00/1,162.00원..4.70원 하락\\n',\n",
       " '\\n\\n',\n",
       " '\\n[뉴욕환시] 달러, 엔화 제외 주요 통화에 연간 기준 하락\\n',\n",
       " '\\n美달러, 유로화에 반등\\n',\n",
       " \"\\n美달러, `고용지표 호조 對 이익실현 매물'..혼조\\n\",\n",
       " '\\n美달러, 연말 이익실현 매물로 유로화에 하락\\n',\n",
       " '\\n\\n',\n",
       " '\\n[2010 경제 대전망] 기준금리 0.75~1.25%P 오를듯\\n',\n",
       " '\\n외환부문 리스크관리 시스템 정비해야[윤증현]\\n',\n",
       " '\\n(마감)환율 하락..1164.5(-6.7원)\\n',\n",
       " '\\nNDF, 1,160.00/1,162.00원..4.70원 하락\\n',\n",
       " '\\n\\n',\n",
       " '\\n[뉴욕환시] 달러, 엔화 제외 주요 통화에 연간 기준 하락\\n',\n",
       " '\\n美달러, 유로화에 반등\\n',\n",
       " \"\\n美달러, `고용지표 호조 對 이익실현 매물'..혼조\\n\",\n",
       " '\\n美달러, 연말 이익실현 매물로 유로화에 하락\\n',\n",
       " '\\n\\n',\n",
       " '\\n[2010 경제 대전망] 기준금리 0.75~1.25%P 오를듯\\n',\n",
       " '\\n외환부문 리스크관리 시스템 정비해야[윤증현]\\n',\n",
       " '\\n(마감)환율 하락..1164.5(-6.7원)\\n',\n",
       " '\\nNDF, 1,160.00/1,162.00원..4.70원 하락\\n',\n",
       " '\\n\\n',\n",
       " '\\n[뉴욕환시] 달러, 엔화 제외 주요 통화에 연간 기준 하락\\n',\n",
       " '\\n美달러, 유로화에 반등\\n',\n",
       " \"\\n美달러, `고용지표 호조 對 이익실현 매물'..혼조\\n\",\n",
       " '\\n美달러, 연말 이익실현 매물로 유로화에 하락\\n',\n",
       " '\\n\\n',\n",
       " '\\n[2010 경제 대전망] 기준금리 0.75~1.25%P 오를듯\\n',\n",
       " '\\n외환부문 리스크관리 시스템 정비해야[윤증현]\\n',\n",
       " '\\n(마감)환율 하락..1164.5(-6.7원)\\n',\n",
       " '\\n美달러, 위험거래 재개로 하락\\n',\n",
       " '\\n\\n',\n",
       " '\\n[서환-마감] 크로스 거래 나선 NDF..9.70원↓\\n',\n",
       " '\\n환율, 10원 하락…미세조정 나선 당국\\n',\n",
       " '\\n환율 하락..1,150원대 중반(종합)\\n',\n",
       " '\\n환율, 네고+역외매도로 1150원 중반으로 하락\\n',\n",
       " '\\n원달러 환율 9.7원 하락한 1154.8원 마감\\n',\n",
       " '\\n(마감)환율 하락..1154.8(-9.7원)\\n',\n",
       " '\\n환율, 9.7원 내린 1154.8원 마감\\n',\n",
       " '\\n\\n',\n",
       " '\\n엔화, 단기급락때문 매수 지속 상승\\n',\n",
       " '\\n美달러, 이익실현 매물 지속 하락\\n',\n",
       " '\\n美달러, 위험거래로 약세 지속\\n',\n",
       " '\\n[사설] 가계부채 급증하는데 금리까지 오르면\\n',\n",
       " '\\n2009년말 외환보유액 2699억달러\\n',\n",
       " \"\\n기업 '과잉 換헤지' 계약 해지된다\\n\",\n",
       " '\\n원·달러 환율 급락…1弗=1140원\\n',\n",
       " '\\n\\n',\n",
       " '\\n[서환-마감] 20억弗 개입에도 NDF 매도..1년4개월래 최저\\n',\n",
       " '\\n\\n',\n",
       " '\\n美달러, 재료 부재 속 강세 지속\\n',\n",
       " '\\n美달러, 주요 통화에 상승\\n',\n",
       " '\\nCRS, 수급쏠림에 급등..베이시스 100bp 육박\\n',\n",
       " '\\n\\n',\n",
       " '\\n[서환-마감] 위안화 절상 주장에 14개월래 최저..4.10원↓\\n',\n",
       " '\\n환율 나흘째 하락…견고한 원화강세\\n',\n",
       " '\\n\\n',\n",
       " '\\n\\n',\n",
       " '\\n환율, 4.1원 내린 1136.4원 마감\\n',\n",
       " '\\n원달러 환율, 4.1원 내린 1136.4원 마감\\n',\n",
       " '\\n[고침]-\"美달러, 강세 재료 부각 상승\" 제하 기사\\n',\n",
       " '\\n美달러, 실업보험청구자수 호조로 강세 지속\\n',\n",
       " '\\n美달러, 강세 재료 부각 상승\\n',\n",
       " '\\n원/달러 환율, 1135원 마감..장중 1129원대\\n',\n",
       " '\\n[경제 3대변수 긴급 점검] 금리…국고채 3년물 0.11%P 급락…출구전략 따라 요동칠 듯\\n',\n",
       " '\\n[경제 3대변수 긴급 점검] 환율…4일간 29원 떨어져 1달러 1135원…1100원까지 하..\\n',\n",
       " '\\n\\n',\n",
       " '\\n\\n',\n",
       " '\\n숨고르는 환율 1135원…달러매도 주춤\\n',\n",
       " '\\n외환당국 \"달러캐리 주시…청산 파장 크다\"\\n',\n",
       " '\\n美달러, 고용 감소 예상치 상회로 급반락\\n',\n",
       " '\\n美달러, 긍정적 고용지표 기대로 강세 지속\\n',\n",
       " '\\n[사설] 금리인상 여전히 신중해야 하는 이유\\n',\n",
       " '\\n달러-엔, 숏커버로 반등..美고용지표 주목\\n',\n",
       " '\\n\\n',\n",
       " '\\n[서환-마감] 日 재무상 발언에 NDF 크로스거래..4.90원↓\\n',\n",
       " '\\n환율 6일째 하락..1,130원(종합)\\n',\n",
       " '\\n환율 6일째 하락…1130원 턱걸이\\n',\n",
       " \"\\n원달러 환율, 6일째 하락…'네고+역외 매도' 우위\\n\",\n",
       " \"\\n[日 아마추어 재무상 때문에…외환시장 '몸살']\\n\",\n",
       " '\\nNDF, 1,127.00/1,128.00원..3.95원 하락\\n',\n",
       " '\\n[뉴욕환시] 달러, 고용지표 실망 하락\\n',\n",
       " '\\n[달러 캐리트레이드 지속 전망]\\n',\n",
       " '\\n美달러, 도매재고 호조로 유로화에 소폭 반등\\n',\n",
       " '\\n美달러, 고용 감소 예상치 상회로 급반락\\n',\n",
       " '\\n美달러, 긍정적 고용지표 기대로 강세 지속\\n',\n",
       " '\\n[사설] 금리인상 여전히 신중해야 하는 이유\\n',\n",
       " '\\n달러-엔, 숏커버로 반등..美고용지표 주목\\n',\n",
       " '\\n\\n',\n",
       " '\\n[서환-마감] 日 재무상 발언에 NDF 크로스거래..4.90원↓\\n']"
      ]
     },
     "execution_count": 4,
     "metadata": {},
     "output_type": "execute_result"
    }
   ],
   "source": [
    "temp"
   ]
  },
  {
   "cell_type": "code",
   "execution_count": 5,
   "metadata": {
    "scrolled": true
   },
   "outputs": [],
   "source": [
    "news=pd.DataFrame(temp, columns=['text'])\n",
    "\n",
    "#csv 저장\n",
    "#news.to_csv('data/news.csv')"
   ]
  }
 ],
 "metadata": {
  "kernelspec": {
   "display_name": "Python 3",
   "language": "python",
   "name": "python3"
  },
  "language_info": {
   "codemirror_mode": {
    "name": "ipython",
    "version": 3
   },
   "file_extension": ".py",
   "mimetype": "text/x-python",
   "name": "python",
   "nbconvert_exporter": "python",
   "pygments_lexer": "ipython3",
   "version": "3.7.4"
  }
 },
 "nbformat": 4,
 "nbformat_minor": 2
}
