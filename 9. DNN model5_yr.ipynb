{
 "cells": [
  {
   "cell_type": "code",
   "execution_count": 1,
   "metadata": {},
   "outputs": [
    {
     "name": "stderr",
     "output_type": "stream",
     "text": [
      "Using TensorFlow backend.\n"
     ]
    }
   ],
   "source": [
    "import pandas as pd\n",
    "import matplotlib.pyplot as plt\n",
    "import numpy as np\n",
    "import tensorflow as tf\n",
    "\n",
    "from keras.models import Sequential\n",
    "from keras.layers import Dense, LSTM ,Dropout\n",
    "from keras.callbacks import EarlyStopping\n",
    "from keras import layers\n",
    "\n",
    "from sklearn.metrics import mean_squared_error"
   ]
  },
  {
   "cell_type": "markdown",
   "metadata": {},
   "source": [
    "----------------------"
   ]
  },
  {
   "cell_type": "markdown",
   "metadata": {},
   "source": [
    "#### 1. 환율"
   ]
  },
  {
   "cell_type": "code",
   "execution_count": 2,
   "metadata": {},
   "outputs": [],
   "source": [
    "rate=pd.read_csv('data/USD_KRW.csv')\n",
    "rate.columns=['date', 'rate']\n",
    "rate=rate.set_index('date')\n",
    "rate_train=rate.loc['2018-02-01': '2019-02-01' ]\n",
    "rate_test=rate.loc['2019-02-01':'2019-12-31']"
   ]
  },
  {
   "cell_type": "markdown",
   "metadata": {},
   "source": [
    "#### 2. 한국 libor"
   ]
  },
  {
   "cell_type": "code",
   "execution_count": 3,
   "metadata": {
    "scrolled": true
   },
   "outputs": [],
   "source": [
    "kolib=pd.read_csv('data/KORIBOR.csv')\n",
    "kolib=kolib[['date', '6month']]\n",
    "kolib.columns=['date','krlibor']\n",
    "kolib=kolib.set_index('date')\n",
    "kolib_train=kolib.loc['2018-02-01': '2019-02-01' ]\n",
    "kolib_test=kolib.loc['2019-02-01':'2019-12-31']"
   ]
  },
  {
   "cell_type": "markdown",
   "metadata": {},
   "source": [
    "#### 3. 미국 libor"
   ]
  },
  {
   "cell_type": "code",
   "execution_count": 4,
   "metadata": {},
   "outputs": [],
   "source": [
    "uslib=pd.read_csv('data/libor.csv')\n",
    "uslib.columns=['date','uslibor']\n",
    "uslib=uslib.set_index('date')"
   ]
  },
  {
   "cell_type": "code",
   "execution_count": 5,
   "metadata": {
    "scrolled": true
   },
   "outputs": [],
   "source": [
    "# 데이터에 일부분에 . 이 존재함. \n",
    "# 국가 공휴일은 삭제하고 필요한 값은 평균을 활용\n",
    "del uslib['uslibor']['2018-12-25']\n",
    "del uslib['uslibor']['2019-01-01']\n",
    "del uslib['uslibor']['2019-05-27']\n",
    "del uslib['uslibor']['2019-12-25']\n",
    "del uslib['uslibor']['2020-01-01']"
   ]
  },
  {
   "cell_type": "code",
   "execution_count": 6,
   "metadata": {
    "scrolled": false
   },
   "outputs": [],
   "source": [
    "uslib['uslibor'].loc['2018-03-30'] = (float(uslib['uslibor'].loc['2018-03-29']) * 2/3 \n",
    "                                            + float(uslib['uslibor'].loc['2018-04-03']) * 1/3)\n",
    "\n",
    "uslib['uslibor'].loc['2018-04-02'] = (float(uslib['uslibor'].loc['2018-03-29']) * 1/3 \n",
    "                                            + float(uslib['uslibor'].loc['2018-04-03']) * 2/3)\n",
    "\n",
    "uslib['uslibor'].loc['2018-05-07'] = (float(uslib['uslibor'].loc['2018-05-04']) * 1/2 \n",
    "                                            + float(uslib['uslibor'].loc['2018-05-08']) * 1/2)\n",
    "\n",
    "uslib['uslibor'].loc['2018-05-28'] = (float(uslib['uslibor'].loc['2018-05-25']) * 1/2 \n",
    "                                            + float(uslib['uslibor'].loc['2018-05-29']) * 1/2)\n",
    "\n",
    "uslib['uslibor'].loc['2018-08-27'] = (float(uslib['uslibor'].loc['2018-08-24']) * 1/2 \n",
    "                                            + float(uslib['uslibor'].loc['2018-08-28']) * 1/2)\n",
    "\n",
    "uslib['uslibor'].loc['2018-12-26'] = (float(uslib['uslibor'].loc['2018-12-24']) * 2/3 \n",
    "                                            + float(uslib['uslibor'].loc['2018-12-27']) * 1/3)\n",
    "\n",
    "uslib['uslibor'].loc['2019-04-19'] = (float(uslib['uslibor'].loc['2019-04-23']) * 2/3 \n",
    "                                            + float(uslib['uslibor'].loc['2019-04-18']) * 1/3)\n",
    "\n",
    "uslib['uslibor'].loc['2019-04-22'] = (float(uslib['uslibor'].loc['2019-04-18']) * 2/3 \n",
    "                                            + float(uslib['uslibor'].loc['2019-04-23']) * 1/3)\n",
    "\n",
    "uslib['uslibor'].loc['2019-05-06'] = (float(uslib['uslibor'].loc['2019-05-03']) * 1/2\n",
    "                                            + float(uslib['uslibor'].loc['2019-05-07']) * 1/2)\n",
    "\n",
    "uslib['uslibor'].loc['2019-08-26'] = (float(uslib['uslibor'].loc['2019-08-23']) * 1/2\n",
    "                                            + float(uslib['uslibor'].loc['2019-08-27']) * 1/2)\n",
    "\n",
    "uslib['uslibor'].loc['2019-12-26'] = (float(uslib['uslibor'].loc['2019-12-24']) * 2/3 \n",
    "                                            + float(uslib['uslibor'].loc['2019-12-27']) * 1/3)"
   ]
  },
  {
   "cell_type": "code",
   "execution_count": 7,
   "metadata": {
    "scrolled": true
   },
   "outputs": [],
   "source": [
    "# 값이 문자형으로 되어있어서 실수형으로 변경\n",
    "uslib['uslibor']=uslib['uslibor'].apply(pd.to_numeric)"
   ]
  },
  {
   "cell_type": "code",
   "execution_count": 8,
   "metadata": {},
   "outputs": [],
   "source": [
    "uslib_train=uslib.loc['2018-02-01': '2019-02-01' ]\n",
    "uslib_test=uslib.loc['2019-02-01':'2019-12-31']"
   ]
  },
  {
   "cell_type": "markdown",
   "metadata": {},
   "source": [
    "#### 4.s&p 500"
   ]
  },
  {
   "cell_type": "code",
   "execution_count": 9,
   "metadata": {},
   "outputs": [],
   "source": [
    "snp500=pd.read_csv('data/S&P500.csv')\n",
    "snp500 = snp500[::-1]\n",
    "snp500=snp500[['날짜','종가']]\n",
    "snp500.columns=['date','snp500']\n",
    "\n",
    "\n",
    "snp500_date=[]\n",
    "for i in snp500['date']:\n",
    "    snp500_date.append(i.replace('년 ','-').replace('월 ','-').replace('일',''))\n",
    "\n",
    "snp500_price=[]\n",
    "for i in snp500['snp500']:\n",
    "    i=i.replace(',','')\n",
    "    snp500_price.append(np.float(i))\n",
    "\n",
    "snp500['date']=snp500_date\n",
    "snp500['snp500']=snp500_price\n",
    "snp500=snp500.set_index('date')"
   ]
  },
  {
   "cell_type": "code",
   "execution_count": 10,
   "metadata": {},
   "outputs": [],
   "source": [
    "snp500_train=snp500.loc['2018-02-01': '2019-02-01' ]\n",
    "snp500_test=snp500.loc['2019-02-01':'2019-12-31']"
   ]
  },
  {
   "cell_type": "markdown",
   "metadata": {},
   "source": [
    "#### 5. kospi200"
   ]
  },
  {
   "cell_type": "code",
   "execution_count": 11,
   "metadata": {},
   "outputs": [],
   "source": [
    "kospi200=pd.read_csv('data/KOSPI200.csv')\n",
    "kospi200=kospi200[['날짜','종가']]\n",
    "kospi200.columns=['date','kospi200']\n",
    "kospi200 = kospi200[::-1]\n",
    "\n",
    "kospi_date=[]\n",
    "for i in kospi200['date']:\n",
    "    kospi_date.append(i.replace('년 ','-').replace('월 ','-').replace('일',''))\n",
    "\n",
    "kospi200['date']=kospi_date\n",
    "kospi200=kospi200.set_index('date')"
   ]
  },
  {
   "cell_type": "code",
   "execution_count": 12,
   "metadata": {},
   "outputs": [],
   "source": [
    "kospi200_train=kospi200.loc['2018-02-01': '2019-02-01' ]\n",
    "kospi200_test=kospi200.loc['2019-02-01':'2019-12-31']"
   ]
  },
  {
   "cell_type": "markdown",
   "metadata": {},
   "source": [
    "------------------"
   ]
  },
  {
   "cell_type": "markdown",
   "metadata": {},
   "source": [
    "### 정리한 데이터를 활용하여 같은 날로 묶어서 하나의 dataframe 생성"
   ]
  },
  {
   "cell_type": "code",
   "execution_count": 13,
   "metadata": {},
   "outputs": [],
   "source": [
    "data_train=pd.concat([rate_train,kolib_train,uslib_train,snp500_train,kospi200_train], \n",
    "                       axis=1,  join = 'inner', sort=False)\n",
    "data_test=pd.concat([rate_test,kolib_test,uslib_test,snp500_test,kospi200_test], \n",
    "                      axis=1,  join = 'inner', sort=False)"
   ]
  },
  {
   "cell_type": "markdown",
   "metadata": {},
   "source": [
    "#### 데이터 프레임 정리하기"
   ]
  },
  {
   "cell_type": "code",
   "execution_count": 14,
   "metadata": {},
   "outputs": [],
   "source": [
    "data_train['y']=data_train['rate'].shift(-1)\n",
    "data_test['y']=data_test['rate'].shift(-1)"
   ]
  },
  {
   "cell_type": "code",
   "execution_count": 15,
   "metadata": {},
   "outputs": [],
   "source": [
    "#Nan 값을 계속 찾아서 업데이트 할 예정\n",
    "data_train['y'][-1]=rate_test.iloc[0]\n",
    "data_train=data_train[['krlibor','uslibor','snp500','kospi200','y']]\n",
    "\n",
    "data_test['y'][-1]=rate_test.iloc[0]\n",
    "data_test=data_test[['krlibor','uslibor','snp500','kospi200','y']]\n",
    "data_test=data_test[:-1]"
   ]
  },
  {
   "cell_type": "code",
   "execution_count": 16,
   "metadata": {},
   "outputs": [],
   "source": [
    "train_input = data_train[['krlibor','uslibor','snp500','kospi200']]\n",
    "train_target = data_train['y']\n",
    "test_input = data_test[['krlibor','uslibor','snp500','kospi200']]\n",
    "test_target = data_test['y']"
   ]
  },
  {
   "cell_type": "markdown",
   "metadata": {},
   "source": [
    "#### scale맞추기"
   ]
  },
  {
   "cell_type": "code",
   "execution_count": 17,
   "metadata": {},
   "outputs": [],
   "source": [
    "mean = train_input.mean(axis=0)\n",
    "std = train_input.std(axis=0)\n",
    "train_input -= mean\n",
    "train_input /= std\n",
    "test_input -= mean\n",
    "test_input /= std"
   ]
  },
  {
   "cell_type": "code",
   "execution_count": 18,
   "metadata": {},
   "outputs": [],
   "source": [
    "train_input=np.array(train_input)\n",
    "train_input=train_input.reshape(train_input.shape[0],4)"
   ]
  },
  {
   "cell_type": "markdown",
   "metadata": {},
   "source": [
    "#### 모델 작성하기 (DNN)"
   ]
  },
  {
   "cell_type": "code",
   "execution_count": 19,
   "metadata": {},
   "outputs": [],
   "source": [
    "early_stopping = EarlyStopping(patience=50)"
   ]
  },
  {
   "cell_type": "code",
   "execution_count": 20,
   "metadata": {
    "scrolled": true
   },
   "outputs": [],
   "source": [
    "model = Sequential()\n",
    "\n",
    "model.add(layers.Dense(units=2048, input_shape=(4,)))\n",
    "model.add(Dropout(0.2))\n",
    "\n",
    "model.add(layers.Dense(units=1024))\n",
    "model.add(Dropout(0.2))\n",
    "\n",
    "model.add(layers.Dense(units=512))\n",
    "model.add(Dropout(0.2))\n",
    "\n",
    "model.add(Dense(units=1))\n",
    "\n",
    "model.compile(optimizer='Adagrad', loss='mean_squared_error')"
   ]
  },
  {
   "cell_type": "code",
   "execution_count": 21,
   "metadata": {
    "scrolled": true
   },
   "outputs": [
    {
     "name": "stdout",
     "output_type": "stream",
     "text": [
      "Train on 165 samples, validate on 72 samples\n",
      "Epoch 1/1000\n",
      "165/165 [==============================] - 1s 3ms/step - loss: 962012.6840 - val_loss: 6687511.3333\n",
      "Epoch 2/1000\n",
      "165/165 [==============================] - 0s 152us/step - loss: 218681.6968 - val_loss: 5125919.8333\n",
      "Epoch 3/1000\n",
      "165/165 [==============================] - 0s 166us/step - loss: 146039.9002 - val_loss: 4252524.1806\n",
      "Epoch 4/1000\n",
      "165/165 [==============================] - 0s 162us/step - loss: 89976.8788 - val_loss: 2093124.0625\n",
      "Epoch 5/1000\n",
      "165/165 [==============================] - 0s 148us/step - loss: 75576.5602 - val_loss: 524880.7153\n",
      "Epoch 6/1000\n",
      "165/165 [==============================] - 0s 150us/step - loss: 21357.9452 - val_loss: 215812.7982\n",
      "Epoch 7/1000\n",
      "165/165 [==============================] - 0s 165us/step - loss: 13250.5686 - val_loss: 113035.6981\n",
      "Epoch 8/1000\n",
      "165/165 [==============================] - 0s 153us/step - loss: 11193.3580 - val_loss: 269025.3368\n",
      "Epoch 9/1000\n",
      "165/165 [==============================] - 0s 155us/step - loss: 40633.4186 - val_loss: 64358.9653\n",
      "Epoch 10/1000\n",
      "165/165 [==============================] - 0s 159us/step - loss: 3329.4173 - val_loss: 29630.5279\n",
      "Epoch 11/1000\n",
      "165/165 [==============================] - 0s 163us/step - loss: 3464.3669 - val_loss: 2693.9448\n",
      "Epoch 12/1000\n",
      "165/165 [==============================] - 0s 163us/step - loss: 2096.5037 - val_loss: 1511.5417\n",
      "Epoch 13/1000\n",
      "165/165 [==============================] - 0s 160us/step - loss: 2641.3631 - val_loss: 1569.2528\n",
      "Epoch 14/1000\n",
      "165/165 [==============================] - 0s 160us/step - loss: 2434.1782 - val_loss: 4214.5728\n",
      "Epoch 15/1000\n",
      "165/165 [==============================] - 0s 165us/step - loss: 5198.6897 - val_loss: 1290.6284\n",
      "Epoch 16/1000\n",
      "165/165 [==============================] - 0s 159us/step - loss: 3004.9480 - val_loss: 1505.6707\n",
      "Epoch 17/1000\n",
      "165/165 [==============================] - 0s 157us/step - loss: 2401.5785 - val_loss: 754.1103\n",
      "Epoch 18/1000\n",
      "165/165 [==============================] - 0s 164us/step - loss: 2832.9827 - val_loss: 764.2080\n",
      "Epoch 19/1000\n",
      "165/165 [==============================] - 0s 161us/step - loss: 1848.4292 - val_loss: 1737.3256\n",
      "Epoch 20/1000\n",
      "165/165 [==============================] - 0s 165us/step - loss: 2242.6602 - val_loss: 1368.8457\n",
      "Epoch 21/1000\n",
      "165/165 [==============================] - 0s 168us/step - loss: 1723.7220 - val_loss: 1699.7348\n",
      "Epoch 22/1000\n",
      "165/165 [==============================] - 0s 165us/step - loss: 2086.3981 - val_loss: 808.1808\n",
      "Epoch 23/1000\n",
      "165/165 [==============================] - 0s 173us/step - loss: 1904.7274 - val_loss: 1080.6795\n",
      "Epoch 24/1000\n",
      "165/165 [==============================] - 0s 179us/step - loss: 2753.1039 - val_loss: 283.0102\n",
      "Epoch 25/1000\n",
      "165/165 [==============================] - 0s 181us/step - loss: 2050.6913 - val_loss: 4831.1255\n",
      "Epoch 26/1000\n",
      "165/165 [==============================] - 0s 188us/step - loss: 2297.0200 - val_loss: 2705.3019\n",
      "Epoch 27/1000\n",
      "165/165 [==============================] - 0s 187us/step - loss: 1828.6618 - val_loss: 1045.0115\n",
      "Epoch 28/1000\n",
      "165/165 [==============================] - 0s 189us/step - loss: 2199.9939 - val_loss: 254.2972\n",
      "Epoch 29/1000\n",
      "165/165 [==============================] - 0s 185us/step - loss: 1771.8493 - val_loss: 407.5057\n",
      "Epoch 30/1000\n",
      "165/165 [==============================] - 0s 191us/step - loss: 2261.0902 - val_loss: 320.0049\n",
      "Epoch 31/1000\n",
      "165/165 [==============================] - 0s 181us/step - loss: 1794.1067 - val_loss: 2067.2072\n",
      "Epoch 32/1000\n",
      "165/165 [==============================] - 0s 183us/step - loss: 3845.5798 - val_loss: 743.1477\n",
      "Epoch 33/1000\n",
      "165/165 [==============================] - 0s 189us/step - loss: 2708.6537 - val_loss: 349.2474\n",
      "Epoch 34/1000\n",
      "165/165 [==============================] - 0s 180us/step - loss: 2407.2915 - val_loss: 83.9628\n",
      "Epoch 35/1000\n",
      "165/165 [==============================] - 0s 187us/step - loss: 1498.2055 - val_loss: 883.3324\n",
      "Epoch 36/1000\n",
      "165/165 [==============================] - 0s 184us/step - loss: 1877.4692 - val_loss: 224.5357\n",
      "Epoch 37/1000\n",
      "165/165 [==============================] - 0s 185us/step - loss: 2352.8212 - val_loss: 2885.0336\n",
      "Epoch 38/1000\n",
      "165/165 [==============================] - 0s 176us/step - loss: 2817.5157 - val_loss: 504.3394\n",
      "Epoch 39/1000\n",
      "165/165 [==============================] - 0s 184us/step - loss: 1707.1297 - val_loss: 1946.8250\n",
      "Epoch 40/1000\n",
      "165/165 [==============================] - 0s 184us/step - loss: 2464.6133 - val_loss: 4358.0929\n",
      "Epoch 41/1000\n",
      "165/165 [==============================] - 0s 180us/step - loss: 2973.9623 - val_loss: 2944.0420\n",
      "Epoch 42/1000\n",
      "165/165 [==============================] - 0s 192us/step - loss: 1896.5349 - val_loss: 1874.1515\n",
      "Epoch 43/1000\n",
      "165/165 [==============================] - 0s 186us/step - loss: 2135.8886 - val_loss: 431.3073\n",
      "Epoch 44/1000\n",
      "165/165 [==============================] - 0s 178us/step - loss: 1539.2844 - val_loss: 665.9875\n",
      "Epoch 45/1000\n",
      "165/165 [==============================] - 0s 184us/step - loss: 2074.1223 - val_loss: 3134.4602\n",
      "Epoch 46/1000\n",
      "165/165 [==============================] - 0s 181us/step - loss: 1876.8570 - val_loss: 5614.4672\n",
      "Epoch 47/1000\n",
      "165/165 [==============================] - 0s 189us/step - loss: 2079.6780 - val_loss: 7162.9350\n",
      "Epoch 48/1000\n",
      "165/165 [==============================] - 0s 183us/step - loss: 2267.0510 - val_loss: 399.4736\n",
      "Epoch 49/1000\n",
      "165/165 [==============================] - 0s 182us/step - loss: 1782.6880 - val_loss: 399.0706\n",
      "Epoch 50/1000\n",
      "165/165 [==============================] - 0s 178us/step - loss: 1979.6336 - val_loss: 2969.6431\n",
      "Epoch 51/1000\n",
      "165/165 [==============================] - 0s 188us/step - loss: 1654.8332 - val_loss: 913.4686\n",
      "Epoch 52/1000\n",
      "165/165 [==============================] - 0s 188us/step - loss: 2275.7809 - val_loss: 980.3004\n",
      "Epoch 53/1000\n",
      "165/165 [==============================] - 0s 187us/step - loss: 2476.0054 - val_loss: 345.6248\n",
      "Epoch 54/1000\n",
      "165/165 [==============================] - 0s 182us/step - loss: 1783.0624 - val_loss: 297.7609\n",
      "Epoch 55/1000\n",
      "165/165 [==============================] - 0s 184us/step - loss: 1393.1215 - val_loss: 730.4963\n",
      "Epoch 56/1000\n",
      "165/165 [==============================] - 0s 181us/step - loss: 1762.0337 - val_loss: 1418.5587\n",
      "Epoch 57/1000\n",
      "165/165 [==============================] - 0s 187us/step - loss: 2266.4653 - val_loss: 1983.3237\n",
      "Epoch 58/1000\n",
      "165/165 [==============================] - 0s 190us/step - loss: 1838.6069 - val_loss: 478.6854\n",
      "Epoch 59/1000\n",
      "165/165 [==============================] - 0s 172us/step - loss: 1894.7611 - val_loss: 250.9416\n",
      "Epoch 60/1000\n",
      "165/165 [==============================] - 0s 185us/step - loss: 2010.1366 - val_loss: 1671.6782\n",
      "Epoch 61/1000\n",
      "165/165 [==============================] - 0s 180us/step - loss: 1853.8268 - val_loss: 1901.1928\n",
      "Epoch 62/1000\n",
      "165/165 [==============================] - 0s 182us/step - loss: 1963.5696 - val_loss: 740.0644\n",
      "Epoch 63/1000\n",
      "165/165 [==============================] - 0s 180us/step - loss: 2152.6301 - val_loss: 805.9908\n",
      "Epoch 64/1000\n",
      "165/165 [==============================] - 0s 187us/step - loss: 1913.9942 - val_loss: 1077.0463\n",
      "Epoch 65/1000\n",
      "165/165 [==============================] - 0s 176us/step - loss: 2005.1962 - val_loss: 2696.9763\n",
      "Epoch 66/1000\n",
      "165/165 [==============================] - 0s 185us/step - loss: 2525.8977 - val_loss: 1466.6274\n",
      "Epoch 67/1000\n",
      "165/165 [==============================] - 0s 188us/step - loss: 2196.6876 - val_loss: 1944.4737\n",
      "Epoch 68/1000\n",
      "165/165 [==============================] - 0s 179us/step - loss: 2436.2817 - val_loss: 110.0029\n",
      "Epoch 69/1000\n",
      "165/165 [==============================] - 0s 179us/step - loss: 2026.3326 - val_loss: 279.6643\n",
      "Epoch 70/1000\n",
      "165/165 [==============================] - 0s 178us/step - loss: 1878.5752 - val_loss: 212.7966\n",
      "Epoch 71/1000\n",
      "165/165 [==============================] - 0s 182us/step - loss: 1424.4403 - val_loss: 310.3548\n",
      "Epoch 72/1000\n",
      "165/165 [==============================] - 0s 176us/step - loss: 2340.0911 - val_loss: 511.6300\n",
      "Epoch 73/1000\n",
      "165/165 [==============================] - 0s 182us/step - loss: 1613.5630 - val_loss: 124.5446\n",
      "Epoch 74/1000\n",
      "165/165 [==============================] - 0s 185us/step - loss: 2124.4976 - val_loss: 12606.1219\n",
      "Epoch 75/1000\n",
      "165/165 [==============================] - 0s 188us/step - loss: 2916.5502 - val_loss: 1514.0894\n",
      "Epoch 76/1000\n",
      "165/165 [==============================] - 0s 176us/step - loss: 2431.3145 - val_loss: 1847.1546\n",
      "Epoch 77/1000\n",
      "165/165 [==============================] - 0s 176us/step - loss: 2212.0156 - val_loss: 156.9307\n",
      "Epoch 78/1000\n",
      "165/165 [==============================] - 0s 182us/step - loss: 2113.1207 - val_loss: 819.3898\n",
      "Epoch 79/1000\n",
      "165/165 [==============================] - 0s 174us/step - loss: 2295.9904 - val_loss: 330.9464\n",
      "Epoch 80/1000\n",
      "165/165 [==============================] - 0s 181us/step - loss: 1993.4909 - val_loss: 1087.2949\n",
      "Epoch 81/1000\n",
      "165/165 [==============================] - 0s 175us/step - loss: 2211.1257 - val_loss: 1201.2807\n",
      "Epoch 82/1000\n",
      "165/165 [==============================] - 0s 182us/step - loss: 2279.2295 - val_loss: 219.3188\n",
      "Epoch 83/1000\n",
      "165/165 [==============================] - 0s 186us/step - loss: 1538.7150 - val_loss: 393.3462\n",
      "Epoch 84/1000\n",
      "165/165 [==============================] - 0s 186us/step - loss: 2417.1060 - val_loss: 79.2028\n",
      "Epoch 85/1000\n",
      "165/165 [==============================] - 0s 187us/step - loss: 1614.0071 - val_loss: 2798.1135\n",
      "Epoch 86/1000\n",
      "165/165 [==============================] - 0s 180us/step - loss: 3179.4741 - val_loss: 139.2717\n",
      "Epoch 87/1000\n",
      "165/165 [==============================] - 0s 187us/step - loss: 1824.9619 - val_loss: 1854.4358\n",
      "Epoch 88/1000\n",
      "165/165 [==============================] - 0s 192us/step - loss: 2309.1631 - val_loss: 34.9426\n",
      "Epoch 89/1000\n",
      "165/165 [==============================] - 0s 186us/step - loss: 2532.2563 - val_loss: 1154.3134\n",
      "Epoch 90/1000\n",
      "165/165 [==============================] - 0s 184us/step - loss: 2338.4010 - val_loss: 494.2823\n",
      "Epoch 91/1000\n",
      "165/165 [==============================] - 0s 188us/step - loss: 1835.1951 - val_loss: 1449.6548\n",
      "Epoch 92/1000\n",
      "165/165 [==============================] - 0s 183us/step - loss: 1836.1213 - val_loss: 83.4577\n",
      "Epoch 93/1000\n",
      "165/165 [==============================] - 0s 181us/step - loss: 1869.8465 - val_loss: 319.6042\n",
      "Epoch 94/1000\n",
      "165/165 [==============================] - 0s 180us/step - loss: 1903.0030 - val_loss: 358.2844\n",
      "Epoch 95/1000\n",
      "165/165 [==============================] - 0s 182us/step - loss: 1587.5939 - val_loss: 170.7956\n",
      "Epoch 96/1000\n",
      "165/165 [==============================] - 0s 182us/step - loss: 1667.0336 - val_loss: 243.9461\n",
      "Epoch 97/1000\n",
      "165/165 [==============================] - 0s 188us/step - loss: 2092.2124 - val_loss: 199.7141\n",
      "Epoch 98/1000\n",
      "165/165 [==============================] - 0s 171us/step - loss: 1625.2547 - val_loss: 1704.7613\n",
      "Epoch 99/1000\n",
      "165/165 [==============================] - 0s 190us/step - loss: 1950.3161 - val_loss: 295.9983\n",
      "Epoch 100/1000\n",
      "165/165 [==============================] - 0s 178us/step - loss: 2240.7440 - val_loss: 524.0738\n",
      "Epoch 101/1000\n",
      "165/165 [==============================] - 0s 184us/step - loss: 1945.0538 - val_loss: 158.6132\n",
      "Epoch 102/1000\n",
      "165/165 [==============================] - 0s 186us/step - loss: 1982.5031 - val_loss: 1203.6623\n",
      "Epoch 103/1000\n",
      "165/165 [==============================] - 0s 187us/step - loss: 2194.4449 - val_loss: 383.1880\n",
      "Epoch 104/1000\n",
      "165/165 [==============================] - 0s 181us/step - loss: 2019.0159 - val_loss: 154.4321\n",
      "Epoch 105/1000\n",
      "165/165 [==============================] - 0s 180us/step - loss: 2207.9571 - val_loss: 5193.2176\n",
      "Epoch 106/1000\n",
      "165/165 [==============================] - 0s 183us/step - loss: 1645.6919 - val_loss: 1185.4813\n",
      "Epoch 107/1000\n",
      "165/165 [==============================] - 0s 183us/step - loss: 1260.5224 - val_loss: 100.6657\n",
      "Epoch 108/1000\n",
      "165/165 [==============================] - 0s 188us/step - loss: 1761.4103 - val_loss: 2158.5998\n",
      "Epoch 109/1000\n",
      "165/165 [==============================] - 0s 184us/step - loss: 1913.3129 - val_loss: 84.7477\n",
      "Epoch 110/1000\n",
      "165/165 [==============================] - 0s 177us/step - loss: 1895.6186 - val_loss: 447.6679\n",
      "Epoch 111/1000\n",
      "165/165 [==============================] - 0s 193us/step - loss: 1973.7380 - val_loss: 1732.3998\n",
      "Epoch 112/1000\n",
      "165/165 [==============================] - 0s 181us/step - loss: 2337.2687 - val_loss: 923.7888\n",
      "Epoch 113/1000\n",
      "165/165 [==============================] - 0s 180us/step - loss: 2016.3744 - val_loss: 340.0080\n",
      "Epoch 114/1000\n",
      "165/165 [==============================] - 0s 178us/step - loss: 1687.0770 - val_loss: 163.1103\n",
      "Epoch 115/1000\n",
      "165/165 [==============================] - 0s 167us/step - loss: 2010.3259 - val_loss: 747.0622\n",
      "Epoch 116/1000\n",
      "165/165 [==============================] - 0s 185us/step - loss: 2038.0326 - val_loss: 350.8808\n",
      "Epoch 117/1000\n",
      "165/165 [==============================] - 0s 186us/step - loss: 1967.2110 - val_loss: 173.7149\n",
      "Epoch 118/1000\n",
      "165/165 [==============================] - 0s 187us/step - loss: 1743.0298 - val_loss: 2716.1273\n",
      "Epoch 119/1000\n",
      "165/165 [==============================] - 0s 173us/step - loss: 2030.7550 - val_loss: 877.1006\n",
      "Epoch 120/1000\n",
      "165/165 [==============================] - 0s 178us/step - loss: 1716.6603 - val_loss: 1175.2598\n",
      "Epoch 121/1000\n",
      "165/165 [==============================] - 0s 179us/step - loss: 1883.5093 - val_loss: 194.9163\n",
      "Epoch 122/1000\n",
      "165/165 [==============================] - 0s 170us/step - loss: 1669.1112 - val_loss: 1072.1795\n",
      "Epoch 123/1000\n",
      "165/165 [==============================] - 0s 174us/step - loss: 1930.0991 - val_loss: 2359.4574\n",
      "Epoch 124/1000\n",
      "165/165 [==============================] - 0s 181us/step - loss: 1913.3586 - val_loss: 154.7860\n",
      "Epoch 125/1000\n",
      "165/165 [==============================] - 0s 188us/step - loss: 1770.7966 - val_loss: 63.3879\n",
      "Epoch 126/1000\n",
      "165/165 [==============================] - 0s 198us/step - loss: 2001.0508 - val_loss: 582.7580\n",
      "Epoch 127/1000\n",
      "165/165 [==============================] - 0s 187us/step - loss: 1967.5626 - val_loss: 618.1830\n",
      "Epoch 128/1000\n",
      "165/165 [==============================] - 0s 177us/step - loss: 1858.0760 - val_loss: 247.8253\n",
      "Epoch 129/1000\n",
      "165/165 [==============================] - 0s 185us/step - loss: 3052.0143 - val_loss: 4282.0356\n",
      "Epoch 130/1000\n",
      "165/165 [==============================] - 0s 176us/step - loss: 2195.9775 - val_loss: 3763.7067\n",
      "Epoch 131/1000\n",
      "165/165 [==============================] - 0s 181us/step - loss: 2042.8514 - val_loss: 1269.4259\n",
      "Epoch 132/1000\n",
      "165/165 [==============================] - 0s 192us/step - loss: 1486.7801 - val_loss: 323.2895\n",
      "Epoch 133/1000\n",
      "165/165 [==============================] - 0s 188us/step - loss: 1897.2441 - val_loss: 602.6135\n",
      "Epoch 134/1000\n",
      "165/165 [==============================] - 0s 182us/step - loss: 2657.2198 - val_loss: 200.6903\n",
      "Epoch 135/1000\n",
      "165/165 [==============================] - 0s 183us/step - loss: 1582.2778 - val_loss: 812.1000\n",
      "Epoch 136/1000\n",
      "165/165 [==============================] - 0s 185us/step - loss: 1818.6010 - val_loss: 380.9173\n",
      "Epoch 137/1000\n",
      "165/165 [==============================] - 0s 172us/step - loss: 2081.8777 - val_loss: 292.0393\n",
      "Epoch 138/1000\n",
      "165/165 [==============================] - 0s 186us/step - loss: 2573.4308 - val_loss: 484.8298\n"
     ]
    }
   ],
   "source": [
    "history = model.fit(train_input, train_target, epochs=1000, batch_size=32, validation_split=0.3, callbacks=[early_stopping])"
   ]
  },
  {
   "cell_type": "markdown",
   "metadata": {},
   "source": [
    "#### loss값 그래프로 표현"
   ]
  },
  {
   "cell_type": "code",
   "execution_count": 22,
   "metadata": {},
   "outputs": [],
   "source": [
    "y_vloss = history.history['val_loss']\n",
    "y_loss = history.history['loss']"
   ]
  },
  {
   "cell_type": "code",
   "execution_count": 23,
   "metadata": {},
   "outputs": [
    {
     "data": {
      "image/png": "[encoded data removed]",
      "text/plain": [
       "<Figure size 1440x360 with 1 Axes>"
      ]
     },
     "metadata": {
      "needs_background": "light"
     },
     "output_type": "display_data"
    }
   ],
   "source": [
    "x_len = np.arange(len(y_loss))\n",
    "\n",
    "plt.figure(figsize=(20,5))\n",
    "plt.plot(x_len, y_vloss, marker='.', c='red', label=\"Validation-set Loss\")\n",
    "plt.plot(x_len, y_loss, marker='.', c='blue', label=\"Train-set Loss\")\n",
    "plt.legend(loc='upper right')\n",
    "plt.grid()\n",
    "plt.xlabel('epoch')\n",
    "plt.ylabel('loss')\n",
    "plt.show()"
   ]
  },
  {
   "cell_type": "markdown",
   "metadata": {},
   "source": [
    "#### 예측하고 평가"
   ]
  },
  {
   "cell_type": "code",
   "execution_count": 24,
   "metadata": {},
   "outputs": [
    {
     "data": {
      "text/plain": [
       "23.123104327146663"
      ]
     },
     "execution_count": 24,
     "metadata": {},
     "output_type": "execute_result"
    }
   ],
   "source": [
    "predicted = model.predict(test_input)\n",
    "actual=data_test['y']\n",
    "\n",
    "RMSE = mean_squared_error(actual, predicted)**0.5    \n",
    "RMSE"
   ]
  },
  {
   "cell_type": "markdown",
   "metadata": {},
   "source": [
    "#### 실제값 예측값 dataframe 만들기"
   ]
  },
  {
   "cell_type": "code",
   "execution_count": 25,
   "metadata": {},
   "outputs": [],
   "source": [
    "predicted = sum(predicted.tolist(), [])\n",
    "actual=actual.tolist()\n",
    "\n",
    "final=pd.DataFrame([predicted, actual]).T\n",
    "final.columns=['pred','actual']\n",
    "final=final.set_index(data_test.index)"
   ]
  },
  {
   "cell_type": "markdown",
   "metadata": {},
   "source": [
    "#### 상승, 하락 표시"
   ]
  },
  {
   "cell_type": "code",
   "execution_count": 26,
   "metadata": {},
   "outputs": [],
   "source": [
    "#train set의 마지막 데이터\n",
    "lastday=rate_train[-1:]['rate']"
   ]
  },
  {
   "cell_type": "code",
   "execution_count": 27,
   "metadata": {},
   "outputs": [],
   "source": [
    "actual_updown=[]\n",
    "pred_updown=[]\n",
    "\n",
    "if final['actual'][0] > lastday[0]:\n",
    "    actual_updown.append('up')\n",
    "else :\n",
    "    actual_updown.append('down')\n",
    "    \n",
    "if final['pred'][0] > lastday[0]:\n",
    "    pred_updown.append('up')\n",
    "else :\n",
    "    pred_updown.append('down')\n",
    "\n",
    "\n",
    "for i in range(len(final)-1):\n",
    "    \n",
    "    if final['actual'][i+1] > final['actual'][i]:\n",
    "        actual_updown.append('up')\n",
    "    else :\n",
    "        actual_updown.append('down')\n",
    "        \n",
    "for i in range(len(final)-1):\n",
    "    \n",
    "    if final['pred'][i+1] > final['actual'][i]:\n",
    "        pred_updown.append('up')\n",
    "    else :\n",
    "        pred_updown.append('down')"
   ]
  },
  {
   "cell_type": "code",
   "execution_count": 28,
   "metadata": {},
   "outputs": [],
   "source": [
    "final['pred_updown']=pred_updown\n",
    "final['actual_updown']=actual_updown"
   ]
  },
  {
   "cell_type": "code",
   "execution_count": 29,
   "metadata": {},
   "outputs": [
    {
     "data": {
      "text/html": [
       "<div>\n",
       "<style scoped>\n",
       "    .dataframe tbody tr th:only-of-type {\n",
       "        vertical-align: middle;\n",
       "    }\n",
       "\n",
       "    .dataframe tbody tr th {\n",
       "        vertical-align: top;\n",
       "    }\n",
       "\n",
       "    .dataframe thead th {\n",
       "        text-align: right;\n",
       "    }\n",
       "</style>\n",
       "<table border=\"1\" class=\"dataframe\">\n",
       "  <thead>\n",
       "    <tr style=\"text-align: right;\">\n",
       "      <th></th>\n",
       "      <th>pred</th>\n",
       "      <th>actual</th>\n",
       "      <th>pred_updown</th>\n",
       "      <th>actual_updown</th>\n",
       "    </tr>\n",
       "    <tr>\n",
       "      <th>date</th>\n",
       "      <th></th>\n",
       "      <th></th>\n",
       "      <th></th>\n",
       "      <th></th>\n",
       "    </tr>\n",
       "  </thead>\n",
       "  <tbody>\n",
       "    <tr>\n",
       "      <td>2019-02-01</td>\n",
       "      <td>1117.431763</td>\n",
       "      <td>1116.8</td>\n",
       "      <td>up</td>\n",
       "      <td>up</td>\n",
       "    </tr>\n",
       "    <tr>\n",
       "      <td>2019-02-07</td>\n",
       "      <td>1119.156006</td>\n",
       "      <td>1123.4</td>\n",
       "      <td>up</td>\n",
       "      <td>up</td>\n",
       "    </tr>\n",
       "    <tr>\n",
       "      <td>2019-02-08</td>\n",
       "      <td>1125.890991</td>\n",
       "      <td>1124.5</td>\n",
       "      <td>up</td>\n",
       "      <td>up</td>\n",
       "    </tr>\n",
       "    <tr>\n",
       "      <td>2019-02-11</td>\n",
       "      <td>1125.293823</td>\n",
       "      <td>1124.5</td>\n",
       "      <td>up</td>\n",
       "      <td>down</td>\n",
       "    </tr>\n",
       "    <tr>\n",
       "      <td>2019-02-12</td>\n",
       "      <td>1122.094727</td>\n",
       "      <td>1124.6</td>\n",
       "      <td>down</td>\n",
       "      <td>up</td>\n",
       "    </tr>\n",
       "    <tr>\n",
       "      <td>...</td>\n",
       "      <td>...</td>\n",
       "      <td>...</td>\n",
       "      <td>...</td>\n",
       "      <td>...</td>\n",
       "    </tr>\n",
       "    <tr>\n",
       "      <td>2019-12-20</td>\n",
       "      <td>1129.916382</td>\n",
       "      <td>1162.6</td>\n",
       "      <td>down</td>\n",
       "      <td>down</td>\n",
       "    </tr>\n",
       "    <tr>\n",
       "      <td>2019-12-23</td>\n",
       "      <td>1130.107422</td>\n",
       "      <td>1161.7</td>\n",
       "      <td>down</td>\n",
       "      <td>down</td>\n",
       "    </tr>\n",
       "    <tr>\n",
       "      <td>2019-12-24</td>\n",
       "      <td>1132.755371</td>\n",
       "      <td>1163.7</td>\n",
       "      <td>down</td>\n",
       "      <td>up</td>\n",
       "    </tr>\n",
       "    <tr>\n",
       "      <td>2019-12-26</td>\n",
       "      <td>1130.892822</td>\n",
       "      <td>1161.2</td>\n",
       "      <td>down</td>\n",
       "      <td>down</td>\n",
       "    </tr>\n",
       "    <tr>\n",
       "      <td>2019-12-27</td>\n",
       "      <td>1129.470215</td>\n",
       "      <td>1160.9</td>\n",
       "      <td>down</td>\n",
       "      <td>down</td>\n",
       "    </tr>\n",
       "  </tbody>\n",
       "</table>\n",
       "<p>217 rows × 4 columns</p>\n",
       "</div>"
      ],
      "text/plain": [
       "                   pred  actual pred_updown actual_updown\n",
       "date                                                     \n",
       "2019-02-01  1117.431763  1116.8          up            up\n",
       "2019-02-07  1119.156006  1123.4          up            up\n",
       "2019-02-08  1125.890991  1124.5          up            up\n",
       "2019-02-11  1125.293823  1124.5          up          down\n",
       "2019-02-12  1122.094727  1124.6        down            up\n",
       "...                 ...     ...         ...           ...\n",
       "2019-12-20  1129.916382  1162.6        down          down\n",
       "2019-12-23  1130.107422  1161.7        down          down\n",
       "2019-12-24  1132.755371  1163.7        down            up\n",
       "2019-12-26  1130.892822  1161.2        down          down\n",
       "2019-12-27  1129.470215  1160.9        down          down\n",
       "\n",
       "[217 rows x 4 columns]"
      ]
     },
     "execution_count": 29,
     "metadata": {},
     "output_type": "execute_result"
    }
   ],
   "source": [
    "final"
   ]
  },
  {
   "cell_type": "code",
   "execution_count": 30,
   "metadata": {},
   "outputs": [
    {
     "name": "stdout",
     "output_type": "stream",
     "text": [
      "RMSE :  23.12\n",
      "전체 상승,하락 정확도 :  51.15 %\n",
      "개래일 100일간 상승,하락 정확도 :  51.0 %\n",
      "개래일 50일간 상승,하락 정확도 :  62.0 %\n",
      "개래일 20일간 상승,하락 정확도 :  70.0 %\n",
      "개래일 10일간 상승,하락 정확도 :  60.0 %\n",
      "개래일 5일간 상승,하락 정확도 :  60.0 %\n"
     ]
    }
   ],
   "source": [
    "#RMSE\n",
    "print('RMSE : ', round(RMSE,2))\n",
    "# 전체 기간 예측\n",
    "print('전체 상승,하락 정확도 : ',round(sum(final['pred_updown'] == final['actual_updown'])/len(final)*100,2), '%')\n",
    "# 거래일 100일 예측\n",
    "final_5=final[:100]\n",
    "print('개래일 100일간 상승,하락 정확도 : ',round(sum(final_5['pred_updown'] == final_5['actual_updown'])/len(final_5)*100,2), '%')\n",
    "# 거래일 50일 예측\n",
    "final_5=final[:50]\n",
    "print('개래일 50일간 상승,하락 정확도 : ',round(sum(final_5['pred_updown'] == final_5['actual_updown'])/len(final_5)*100,2), '%')\n",
    "#거래일 20일 예측\n",
    "final_5=final[:20]\n",
    "print('개래일 20일간 상승,하락 정확도 : ',round(sum(final_5['pred_updown'] == final_5['actual_updown'])/len(final_5)*100,2), '%')\n",
    "#거래일 10일 예측\n",
    "final_5=final[:10]\n",
    "print('개래일 10일간 상승,하락 정확도 : ',round(sum(final_5['pred_updown'] == final_5['actual_updown'])/len(final_5)*100,2), '%')\n",
    "#거래일 5일 예측\n",
    "final_5=final[:5]\n",
    "print('개래일 5일간 상승,하락 정확도 : ',round(sum(final_5['pred_updown'] == final_5['actual_updown'])/len(final_5)*100,2), '%')"
   ]
  },
  {
   "cell_type": "markdown",
   "metadata": {},
   "source": [
    "#### 그림으로 표현"
   ]
  },
  {
   "cell_type": "code",
   "execution_count": 31,
   "metadata": {},
   "outputs": [
    {
     "data": {
      "image/png": "[encoded data removed]",
      "text/plain": [
       "<Figure size 1152x576 with 1 Axes>"
      ]
     },
     "metadata": {
      "needs_background": "light"
     },
     "output_type": "display_data"
    }
   ],
   "source": [
    "plt.figure(figsize=(16,8))\n",
    "plt.plot(predicted, label='pred')\n",
    "plt.plot(actual, label='actual')\n",
    "plt.legend(loc='best')\n",
    "plt.show()"
   ]
  },
  {
   "cell_type": "code",
   "execution_count": null,
   "metadata": {},
   "outputs": [],
   "source": []
  }
 ],
 "metadata": {
  "kernelspec": {
   "display_name": "Python 3",
   "language": "python",
   "name": "python3"
  },
  "language_info": {
   "codemirror_mode": {
    "name": "ipython",
    "version": 3
   },
   "file_extension": ".py",
   "mimetype": "text/x-python",
   "name": "python",
   "nbconvert_exporter": "python",
   "pygments_lexer": "ipython3",
   "version": "3.7.4"
  }
 },
 "nbformat": 4,
 "nbformat_minor": 2
}
